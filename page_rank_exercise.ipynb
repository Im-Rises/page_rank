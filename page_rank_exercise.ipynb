{
 "cells": [
  {
   "cell_type": "markdown",
   "metadata": {
    "pycharm": {
     "name": "#%% md\n"
    }
   },
   "source": [
    "# Page Rank exercise\n",
    "\n",
    "## Introduction\n",
    "\n",
    "For this exercise we'll use the `hollins.dat` file provided with the project.\n",
    "The first line of the file indicate the number of websites (6012) from 1 to 6012, the second number (23875) is the number of relations successor/predecessor.\n",
    "The following 6012 are all the website link with their index.\n",
    "The last 23875 are in column 1 the predecessors and in column 2 the successors of the websites represented by their index."
   ]
  },
  {
   "cell_type": "markdown",
   "source": [
    "## Pre-process data\n",
    "\n",
    "First thing to do we load the `hollins.dat` file load data and create dictionary between the index of the website to its link.\n",
    "We retrieve the datas from the file:\n",
    "- The size of the stochastic matrix M.\n",
    "- The number of relations.\n",
    "- The index and link of each website to create a python dictionary\n",
    "- The relations between each website (predecessors/successors)"
   ],
   "metadata": {
    "collapsed": false,
    "pycharm": {
     "name": "#%% md\n"
    }
   }
  },
  {
   "cell_type": "code",
   "execution_count": 379,
   "metadata": {
    "pycharm": {
     "name": "#%%\n"
    }
   },
   "outputs": [
    {
     "name": "stdout",
     "output_type": "stream",
     "text": [
      "Size of Matrix (number of website) : 5\n",
      "Total number of relations : 7\n",
      "[['1', '2'], ['2', '3'], ['3', '4'], ['3', '5'], ['5', '1'], ['5', '2'], ['5', '4']]\n"
     ]
    }
   ],
   "source": [
    "# Load file\n",
    "filepath = \"hollins.dat\"\n",
    "filepath = \"myDataset-deadends.txt\"\n",
    "# filepath = \"myDataset-spidertrap.txt\"\n",
    "f = open(filepath, \"r\")\n",
    "\n",
    "# Get size of matrix and total number of relations\n",
    "matrix_size, total_relations = f.readline().strip().split(\" \")\n",
    "matrix_size = int(matrix_size)\n",
    "total_relations = int(total_relations)\n",
    "\n",
    "# Create dictionary from number to website link.\n",
    "dictionary_index_link = {}\n",
    "for _ in range(0, matrix_size):\n",
    "    line = f.readline().strip().split(' ')\n",
    "    dictionary_index_link[line[0]] = line[1]\n",
    "\n",
    "# Store all relations in an array\n",
    "relations_tab = []\n",
    "for _ in range(0, total_relations):\n",
    "    relations_tab.append(f.readline().strip().split(' '))\n",
    "\n",
    "# Close file\n",
    "f.close()\n",
    "\n",
    "# Print infos\n",
    "print(\"Size of Matrix (number of website) : {}\".format(matrix_size))\n",
    "print(\"Total number of relations : {}\".format(total_relations))\n",
    "print(relations_tab)"
   ]
  },
  {
   "cell_type": "markdown",
   "source": [
    "## Page rank simple resolution\n",
    "\n",
    "In a first time we will calculate our page rank wimply without teleport and dead ends resolution.\n",
    "\n",
    "To do so we need in a first time to create a function returning the number of successors a website has.\n",
    "\n",
    "The second part of the `hollins.dat` file is organised as follows:\n",
    "\n",
    "| left column | right column |\n",
    "|-------------|--------------|\n",
    "| 3           | 5            |\n",
    "| 1           | 2            |\n",
    "| 8           | 199          |\n",
    "\n",
    "Example :\n",
    "5 is the successor of 3.\n",
    "3 is the predecessor of 5.\n",
    "etc...\n",
    "\n",
    "So to count the number of successors a website has we count how many times a website is present in the left column."
   ],
   "metadata": {
    "collapsed": false,
    "pycharm": {
     "name": "#%% md\n"
    }
   }
  },
  {
   "cell_type": "code",
   "execution_count": 380,
   "outputs": [
    {
     "name": "stdout",
     "output_type": "stream",
     "text": [
      "The website with index 1 has 1 successors\n"
     ]
    }
   ],
   "source": [
    "def get_successors_number(relations_tab, index):\n",
    "    return sum(i[0] == index for i in relations_tab)\n",
    "\n",
    "\n",
    "print(f\"The website with index 1 has {get_successors_number(relations_tab, '1')} successors\")"
   ],
   "metadata": {
    "collapsed": false,
    "pycharm": {
     "name": "#%%\n"
    }
   }
  },
  {
   "cell_type": "markdown",
   "source": [
    "Now we can create our M matrix:"
   ],
   "metadata": {
    "collapsed": false,
    "pycharm": {
     "name": "#%% md\n"
    }
   }
  },
  {
   "cell_type": "code",
   "execution_count": 381,
   "outputs": [
    {
     "name": "stdout",
     "output_type": "stream",
     "text": [
      "[[0.         0.         0.         0.         0.33333333]\n",
      " [1.         0.         0.         0.         0.33333333]\n",
      " [0.         1.         0.         0.         0.        ]\n",
      " [0.         0.         0.5        0.         0.33333333]\n",
      " [0.         0.         0.5        0.         0.        ]]\n"
     ]
    }
   ],
   "source": [
    "import numpy as np\n",
    "\n",
    "\n",
    "def create_matrix_M(matrix_size, relations_tab):\n",
    "    # Create 2D array sized (matrix_size*matrix_size) full of 0\n",
    "    M = [[0 for _ in range(matrix_size)] for _ in range(matrix_size)]\n",
    "\n",
    "    # Add the relations in the matrix\n",
    "    for i in relations_tab:\n",
    "        nbr_successors = get_successors_number(relations_tab, i[0])\n",
    "        if nbr_successors != 0:\n",
    "            website, successor = int(i[0]), int(i[1])\n",
    "            M[successor - 1][website - 1] = 1 / nbr_successors\n",
    "    # Convert to numpy array\n",
    "    return np.array(M)\n",
    "\n",
    "\n",
    "M = create_matrix_M(matrix_size, relations_tab)\n",
    "print(M)"
   ],
   "metadata": {
    "collapsed": false,
    "pycharm": {
     "name": "#%%\n"
    }
   }
  },
  {
   "cell_type": "markdown",
   "source": [
    "The vector r0:"
   ],
   "metadata": {
    "collapsed": false,
    "pycharm": {
     "name": "#%% md\n"
    }
   }
  },
  {
   "cell_type": "code",
   "execution_count": 382,
   "outputs": [
    {
     "name": "stdout",
     "output_type": "stream",
     "text": [
      "[0.2 0.2 0.2 0.2 0.2]\n"
     ]
    }
   ],
   "source": [
    "def create_vector_r0(matrix_size):\n",
    "    return np.array([1 / matrix_size for _ in range(matrix_size)]).transpose()\n",
    "\n",
    "\n",
    "r0 = create_vector_r0(matrix_size)\n",
    "print(r0)"
   ],
   "metadata": {
    "collapsed": false,
    "pycharm": {
     "name": "#%%\n"
    }
   }
  },
  {
   "cell_type": "markdown",
   "source": [
    "Matrix method resolution:"
   ],
   "metadata": {
    "collapsed": false,
    "pycharm": {
     "name": "#%% md\n"
    }
   }
  },
  {
   "cell_type": "code",
   "execution_count": 383,
   "outputs": [
    {
     "name": "stdout",
     "output_type": "stream",
     "text": [
      "iteration r0 = [0.07,0.27,0.2 ,0.17,0.1 ]\n",
      "Iteration r1 = [0.03,0.1 ,0.27,0.13,0.1 ]\n",
      "Iteration r2 = [0.03,0.07,0.1 ,0.17,0.13]\n",
      "Iteration r3 = [0.04,0.08,0.07,0.09,0.05]\n",
      "Iteration r4 = [0.02,0.06,0.08,0.05,0.03]\n",
      "Iteration r5 = [0.01,0.03,0.06,0.05,0.04]\n",
      "0.1888888888888889\n"
     ]
    }
   ],
   "source": [
    "def calculate_page_rank(M, r0, epsilon):\n",
    "    num_iteration = 0\n",
    "    do_loop = True\n",
    "    rk1 = np.dot(M, r0)\n",
    "    print(f\"iteration r{num_iteration} = \" + np.array2string(rk1, precision=2, separator=',', suppress_small=True))\n",
    "    while do_loop:\n",
    "        num_iteration += 1\n",
    "        rk0 = rk1\n",
    "        rk1 = np.dot(M, rk1)\n",
    "        print(f\"Iteration r{num_iteration} = \" + np.array2string(rk1, precision=2, separator=',', suppress_small=True))\n",
    "        do_loop = not (np.linalg.norm((rk1 - rk0), ord=1) < epsilon)\n",
    "    return rk1\n",
    "\n",
    "\n",
    "epsilon = 0.1\n",
    "pagerank_result = calculate_page_rank(M, r0, epsilon)\n",
    "print(sum(pagerank_result))"
   ],
   "metadata": {
    "collapsed": false,
    "pycharm": {
     "name": "#%%\n"
    }
   }
  },
  {
   "cell_type": "markdown",
   "source": [],
   "metadata": {
    "collapsed": false,
    "pycharm": {
     "name": "#%% md\n"
    }
   }
  },
  {
   "cell_type": "markdown",
   "source": [
    "To check if our result is right, we sum all the values from the page rank. The sum equals 0.999 really close to one, our calculator seems right. The error is due to the approximation of the values."
   ],
   "metadata": {
    "collapsed": false,
    "pycharm": {
     "name": "#%% md\n"
    }
   }
  },
  {
   "cell_type": "markdown",
   "source": [
    "## Spider-trap and teleport\n",
    "\n",
    "Now to prevent the spider-trap issue we need to implement teleport.\n",
    "To do so we create two function, one for the teleport operation (for our new M matrix) and another to create the T matrix."
   ],
   "metadata": {
    "collapsed": false,
    "pycharm": {
     "name": "#%% md\n"
    }
   }
  },
  {
   "cell_type": "code",
   "execution_count": 384,
   "outputs": [],
   "source": [
    "def create_matrix_T(matrix_size):\n",
    "    return np.array([[1 / matrix_size for _ in range(matrix_size)] for _ in range(matrix_size)])\n",
    "\n",
    "\n",
    "T = create_matrix_T(matrix_size)"
   ],
   "metadata": {
    "collapsed": false,
    "pycharm": {
     "name": "#%%\n"
    }
   }
  },
  {
   "cell_type": "markdown",
   "source": [
    "Resolution with teleport:"
   ],
   "metadata": {
    "collapsed": false,
    "pycharm": {
     "name": "#%% md\n"
    }
   }
  },
  {
   "cell_type": "code",
   "execution_count": 385,
   "outputs": [
    {
     "name": "stdout",
     "output_type": "stream",
     "text": [
      "iteration r0 = [0.09,0.25,0.2 ,0.17,0.12]\n",
      "Iteration r1 = [0.07,0.14,0.24,0.15,0.11]\n",
      "Iteration r2 = [0.06,0.11,0.14,0.15,0.12]\n",
      "Iteration r3 = [0.06,0.1 ,0.11,0.11,0.08]\n",
      "Iteration r4 = [0.04,0.08,0.1 ,0.08,0.06]\n"
     ]
    }
   ],
   "source": [
    "def teleport_operation(M, T, beta):\n",
    "    return M * beta + T * (1 - beta)\n",
    "\n",
    "\n",
    "beta = 0.8\n",
    "M = create_matrix_M(matrix_size, relations_tab)\n",
    "M = teleport_operation(M, T, beta)\n",
    "pagerank_result = calculate_page_rank(M, r0, epsilon)"
   ],
   "metadata": {
    "collapsed": false,
    "pycharm": {
     "name": "#%%\n"
    }
   }
  },
  {
   "cell_type": "markdown",
   "source": [
    "## Dead-ends resolution\n",
    "\n",
    "To prevent the dead-ends issue we need to delete all website that could cause dead ends. To do so, it is a necessity to re-create the dictionary and the complete relation website/successor array."
   ],
   "metadata": {
    "collapsed": false,
    "pycharm": {
     "name": "#%% md\n"
    }
   },
   "execution_count": 349
  },
  {
   "cell_type": "markdown",
   "source": [
    "Before creating M, T and r0, we need to preprocess our data to delete the website that might produce dead end and change the index of all websites."
   ],
   "metadata": {
    "collapsed": false,
    "pycharm": {
     "name": "#%% md\n"
    }
   }
  },
  {
   "cell_type": "code",
   "execution_count": 386,
   "outputs": [],
   "source": [
    "# Create an array that contains the index of all website that doesn't cause dead end\n",
    "website_to_keep_list = []\n",
    "website_to_delete_list = []\n",
    "for i in range(1, matrix_size + 1):\n",
    "    if get_successors_number(relations_tab, str(i)) != 0:\n",
    "        website_to_keep_list.append(i)\n",
    "    else:\n",
    "        website_to_delete_list.append(i)\n",
    "\n",
    "# Create new dictionary from first dictionary\n",
    "dictionary_index_link_new = {}\n",
    "index = 1\n",
    "for i in website_to_keep_list:\n",
    "    dictionary_index_link_new[str(index)] = dictionary_index_link[str(i)]\n",
    "    index += 1\n",
    "\n",
    "relations_tab_new = []\n",
    "# Create new relation tab\n",
    "for i in relations_tab:\n",
    "    if int(i[0]) in website_to_keep_list and int(i[1]) in website_to_keep_list:\n",
    "        # here calculate nex index for i\n",
    "        # calculate number of index deleted below the i[0] and i[1]\n",
    "        sum_below_index_website = sum(index_deleted < int(i[0]) for index_deleted in website_to_delete_list)\n",
    "        sum_below_index_successor = sum(index_deleted < int(i[1]) for index_deleted in website_to_delete_list)\n",
    "        new_website_successor_indexes = [int(i[0]) - sum_below_index_website, int(i[1]) - sum_below_index_successor]\n",
    "        relations_tab_new.append(new_website_successor_indexes)\n",
    "\n",
    "matrix_size = len(website_to_keep_list)\n",
    "\n",
    "# print(len(website_to_keep_list))\n",
    "# print(website_to_keep_list)\n",
    "#\n",
    "# print(len(website_to_delete_list))\n",
    "# print(website_to_delete_list)\n",
    "#\n",
    "# print(len(dictionary_index_link_new))\n",
    "# print(dictionary_index_link_new)\n",
    "#\n",
    "# matrix_size = len(website_to_keep_list)\n",
    "# print(matrix_size)\n",
    "#\n",
    "# print(relations_tab_new)"
   ],
   "metadata": {
    "collapsed": false,
    "pycharm": {
     "name": "#%%\n"
    }
   }
  },
  {
   "cell_type": "markdown",
   "source": [
    "Now we can create our new matrix and calculate the new values without dead ends."
   ],
   "metadata": {
    "collapsed": false,
    "pycharm": {
     "name": "#%% md\n"
    }
   }
  },
  {
   "cell_type": "code",
   "execution_count": 387,
   "outputs": [
    {
     "name": "stdout",
     "output_type": "stream",
     "text": [
      "iteration r0 = [0.15,0.35,0.25,0.25]\n",
      "Iteration r1 = [0.15,0.27,0.33,0.25]\n",
      "Iteration r2 = [0.15,0.27,0.27,0.31]\n",
      "Iteration r3 = [0.18,0.3 ,0.27,0.26]\n",
      "Iteration r4 = [0.16,0.3 ,0.29,0.26]\n"
     ]
    }
   ],
   "source": [
    "beta = 0.8\n",
    "epsilon = 0.1\n",
    "\n",
    "M = create_matrix_M(matrix_size, relations_tab_new)\n",
    "\n",
    "T = create_matrix_T(matrix_size)\n",
    "\n",
    "r0 = create_vector_r0(matrix_size)\n",
    "\n",
    "M = teleport_operation(M, T, beta)\n",
    "\n",
    "pagerank_result = calculate_page_rank(M, r0, epsilon)"
   ],
   "metadata": {
    "collapsed": false,
    "pycharm": {
     "name": "#%%\n"
    }
   }
  },
  {
   "cell_type": "code",
   "execution_count": 387,
   "outputs": [],
   "source": [],
   "metadata": {
    "collapsed": false,
    "pycharm": {
     "name": "#%%\n"
    }
   }
  },
  {
   "cell_type": "code",
   "execution_count": 388,
   "outputs": [
    {
     "name": "stdout",
     "output_type": "stream",
     "text": [
      "D\n",
      "E\n",
      "E\n"
     ]
    }
   ],
   "source": [
    "print(dictionary_index_link['4'])\n",
    "print(dictionary_index_link['5'])\n",
    "\n",
    "print(dictionary_index_link_new['4'])"
   ],
   "metadata": {
    "collapsed": false,
    "pycharm": {
     "name": "#%%\n"
    }
   }
  },
  {
   "cell_type": "code",
   "execution_count": 389,
   "outputs": [
    {
     "name": "stdout",
     "output_type": "stream",
     "text": [
      "[1, 2, 3, 5]\n",
      "4\n",
      "3\n",
      "2\n",
      "1\n"
     ]
    }
   ],
   "source": [
    "print(website_to_keep_list)\n",
    "\n",
    "for i in range(matrix_size, 0, -1):\n",
    "    print(f\"{i}\")"
   ],
   "metadata": {
    "collapsed": false,
    "pycharm": {
     "name": "#%%\n"
    }
   }
  },
  {
   "cell_type": "markdown",
   "source": [
    "Now we need to re-create our M matrix, T matrix etc...\n"
   ],
   "metadata": {
    "collapsed": false,
    "pycharm": {
     "name": "#%% md\n"
    }
   }
  },
  {
   "cell_type": "code",
   "execution_count": 390,
   "outputs": [],
   "source": [
    "# # Modify dictionary and create new M from M\n",
    "# M_dead_end = create_matrix_M(matrix_size, relations_tab)\n",
    "# for i in range(matrix_size,0,-1): # from 6012 to 1\n",
    "#     if get_successors_number(relations_tab,str(i))==0:\n",
    "\n",
    "# # Create dictionary and add element website if it is in the website_to_keep_list\n",
    "# dictionary_index_link_new = {}\n",
    "# new_index=0\n",
    "# for i in range(matrix_size):\n",
    "#     index, website = f.readline().strip().split(' ')\n",
    "#     if i in website_to_keep_list:\n",
    "#         dictionary_index_link_new[new_index] = website\n",
    "#         new_index+=1\n",
    "#\n",
    "# # Define matrix size\n",
    "# matrix_size = len(website_to_keep_list)\n",
    "#\n",
    "# # Close file\n",
    "# f.close()\n",
    "#\n",
    "# # for i in website_to_keep_list:\n",
    "\n",
    "# print(len(website_to_keep_list))\n",
    "# print(len(dictionary_index_link_new))\n",
    "\n",
    "\n",
    "# def get_successors_number_dead_end(relations_tab, index):\n",
    "#     return sum(i[0] == index for i in relations_tab)\n",
    "#\n",
    "#\n",
    "# def create_matrix_M_dead_end():\n",
    "#     # Create 2D array sized (matrix_size*matrix_size) full of 0\n",
    "#     M = [[0 for _ in range(matrix_size)] for _ in range(matrix_size)]\n",
    "#\n",
    "#     # Add the relations in the matrix\n",
    "#     for i in relations_tab:\n",
    "#         nbr_successors = get_successors_number(relations_tab, i[0])\n",
    "#         if nbr_successors != 0:\n",
    "#             website, successor = int(i[0]), int(i[1])\n",
    "#             M[successor - 1][website - 1] = 1 / nbr_successors\n",
    "#\n",
    "#     # Convert to numpy array\n",
    "#     return np.array(M)\n"
   ],
   "metadata": {
    "collapsed": false,
    "pycharm": {
     "name": "#%%\n"
    }
   }
  }
 ],
 "metadata": {
  "interpreter": {
   "hash": "5be84bbf639de8ce9fb90f270122521ec6634755176df17e92ed2149c7e8e59c"
  },
  "kernelspec": {
   "display_name": "Python 3.10.2 64-bit",
   "language": "python",
   "name": "python3"
  },
  "language_info": {
   "codemirror_mode": {
    "name": "ipython",
    "version": 3
   },
   "file_extension": ".py",
   "mimetype": "text/x-python",
   "name": "python",
   "nbconvert_exporter": "python",
   "pygments_lexer": "ipython3",
   "version": "3.10.2"
  },
  "orig_nbformat": 4
 },
 "nbformat": 4,
 "nbformat_minor": 2
}