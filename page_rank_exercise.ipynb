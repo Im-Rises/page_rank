{
 "cells": [
  {
   "cell_type": "markdown",
   "metadata": {
    "pycharm": {
     "name": "#%% md\n"
    }
   },
   "source": [
    "# Page Rank exercise\n",
    "\n",
    "## Introduction\n",
    "\n",
    "For this exercise we'll use the `hollins.dat` file provided with the project.\n",
    "The first line of the file indicate the number of websites (6012) from 1 to 6012, the second number (23875) is the number of relations successor/predecessor.\n",
    "The following 6012 are all the website link with their index.\n",
    "The last 23875 are in column 1 the predecessors and in column 2 the successors of the websites represented by their index."
   ]
  },
  {
   "cell_type": "markdown",
   "source": [
    "## Pre-process data\n",
    "\n",
    "First thing to do we load the `hollins.dat` file load data and create dictionary between the index of the website to its link.\n",
    "We retrieve the datas from the file:\n",
    "- The size of the stochastic matrix M.\n",
    "- The number of relations.\n",
    "- The index and link of each website to create a python dictionary\n",
    "- The relations between each website (predecessors/successors)"
   ],
   "metadata": {
    "collapsed": false,
    "pycharm": {
     "name": "#%% md\n"
    }
   }
  },
  {
   "cell_type": "code",
   "execution_count": 92,
   "metadata": {
    "pycharm": {
     "name": "#%%\n"
    }
   },
   "outputs": [
    {
     "name": "stdout",
     "output_type": "stream",
     "text": [
      "Size of Matrix (number of website) : 5\n",
      "Total number of relations : 8\n",
      "{'1': 'A', '2': 'B', '3': 'C', '4': 'D', '5': 'E'}\n",
      "[['1', '2'], ['2', '3'], ['3', '4'], ['3', '5'], ['4', '1'], ['5', '1'], ['5', '2'], ['5', '4']]\n"
     ]
    }
   ],
   "source": [
    "\"\"\"\n",
    "Retrieve data size from file.\n",
    "\"\"\"\n",
    "\n",
    "# Load file\n",
    "# f = open(\"hollins.dat\", \"r\")\n",
    "f = open(\"myDataset.txt\", \"r\")\n",
    "\n",
    "# Get size of matrix and total number of relations\n",
    "matrix_size, total_relations = f.readline().split(\" \")\n",
    "matrix_size = int(matrix_size)\n",
    "total_relations = int(total_relations)\n",
    "\n",
    "# Create dictionary from number to website link.\n",
    "dictionary_index_link = {}\n",
    "for _ in range(0, matrix_size):\n",
    "    line = f.readline().split()\n",
    "    dictionary_index_link[line[0]] = line[1]\n",
    "\n",
    "# Store all relations in an array\n",
    "relations_tab = []\n",
    "for _ in range(0, total_relations):\n",
    "    relations_tab.append(f.readline().strip().split(' '))\n",
    "\n",
    "# Print infos\n",
    "print(\"Size of Matrix (number of website) : {}\".format(matrix_size))\n",
    "print(\"Total number of relations : {}\".format(total_relations))\n",
    "print(dictionary_index_link)\n",
    "print(relations_tab)"
   ]
  },
  {
   "cell_type": "markdown",
   "source": [
    "## Page rank simple resolution\n",
    "\n",
    "In a first time we will calculate our page rank wimply without teleport and dead ends resolution."
   ],
   "metadata": {
    "collapsed": false,
    "pycharm": {
     "name": "#%% md\n"
    }
   }
  },
  {
   "cell_type": "markdown",
   "source": [
    "To do so we need in a first time to create a function returning the number of successors a website has.\n",
    "\n",
    "The second part of the `hollins.dat` file is organised as follows:\n",
    "\n",
    "| left column | right column |\n",
    "|-------------|--------------|\n",
    "| 3           | 5            |\n",
    "| 1           | 2            |\n",
    "| 8           | 199          |\n",
    "\n",
    "Example :\n",
    "5 is the successor of 3.\n",
    "3 is the predecessor of 5.\n",
    "etc...\n",
    "\n",
    "So to count the number of successors a website has we count how many times a website is present in the left column."
   ],
   "metadata": {
    "collapsed": false,
    "pycharm": {
     "name": "#%% md\n"
    }
   }
  },
  {
   "cell_type": "code",
   "execution_count": 98,
   "outputs": [
    {
     "name": "stdout",
     "output_type": "stream",
     "text": [
      "The website with index 1 has 1 successors\n"
     ]
    }
   ],
   "source": [
    "def get_successors_number(relations_tab, index):\n",
    "    return sum(i[0] == index for i in relations_tab)\n",
    "\n",
    "\n",
    "print(f\"The website with index 1 has {get_successors_number(relations_tab, '1')} successors\")"
   ],
   "metadata": {
    "collapsed": false,
    "pycharm": {
     "name": "#%%\n"
    }
   }
  },
  {
   "cell_type": "markdown",
   "source": [
    "Now we can create our M matrix:"
   ],
   "metadata": {
    "collapsed": false,
    "pycharm": {
     "name": "#%% md\n"
    }
   }
  },
  {
   "cell_type": "code",
   "execution_count": 101,
   "outputs": [],
   "source": [
    "import numpy as np\n",
    "\n",
    "\n",
    "def create_matrix_M(matrix_size, relations_tab):\n",
    "    # Create 2D array sized (matrix_size*matrix_size) full of 0\n",
    "    M = [[0 for _ in range(matrix_size)] for _ in range(matrix_size)]\n",
    "\n",
    "    # Add the relations in the matrix\n",
    "    for i in relations_tab:\n",
    "        nbr_successors = get_successors_number(relations_tab, i[0])\n",
    "        if nbr_successors != 0:\n",
    "            website, successor = int(i[0]), int(i[1])\n",
    "            M[successor-1][website-1] = 1 / nbr_successors\n",
    "\n",
    "    # Convert to numpy array\n",
    "    return np.array(M)\n",
    "\n",
    "\n",
    "M = create_matrix_M(matrix_size, relations_tab)"
   ],
   "metadata": {
    "collapsed": false,
    "pycharm": {
     "name": "#%%\n"
    }
   }
  },
  {
   "cell_type": "markdown",
   "source": [
    "The vector r0:"
   ],
   "metadata": {
    "collapsed": false,
    "pycharm": {
     "name": "#%% md\n"
    }
   }
  },
  {
   "cell_type": "code",
   "execution_count": 102,
   "outputs": [
    {
     "name": "stdout",
     "output_type": "stream",
     "text": [
      "0.0\n",
      "1.0\n",
      "[[0.         0.         0.         1.         0.33333333]\n",
      " [1.         0.         0.         0.         0.33333333]\n",
      " [0.         1.         0.         0.         0.        ]\n",
      " [0.         0.         0.5        0.         0.33333333]\n",
      " [0.         0.         0.5        0.         0.        ]]\n"
     ]
    }
   ],
   "source": [
    "print(M[0][1])\n",
    "print(M[1][0])\n",
    "print(M)"
   ],
   "metadata": {
    "collapsed": false,
    "pycharm": {
     "name": "#%%\n"
    }
   }
  },
  {
   "cell_type": "markdown",
   "source": [],
   "metadata": {
    "collapsed": false,
    "pycharm": {
     "name": "#%% md\n"
    }
   }
  },
  {
   "cell_type": "code",
   "execution_count": 96,
   "outputs": [],
   "source": [
    "import numpy as np\n",
    "\n",
    "\n",
    "def calculate_pagerank(M, r0):\n",
    "    epsilon = 0.1\n",
    "    num_iteration = 0\n",
    "    do_loop = True\n",
    "\n",
    "    rk1 = np.dot(M, r0)\n",
    "    result = np.array2string(rk1, precision=2, separator=',', suppress_small=True)\n",
    "    print(\"L'itération a pour valeur r{}\".format(num_iteration) + \" = \" + result)\n",
    "\n",
    "    while do_loop:\n",
    "        num_iteration += 1\n",
    "        rk0 = rk1\n",
    "        rk1 = np.dot(M, rk1)\n",
    "        result = np.array2string(rk1, precision=2, separator=',', suppress_small=True)\n",
    "        print(\n",
    "            \"L'itération a pour valeur r{}\".format(num_iteration) + \" = \" + result)\n",
    "        do_loop = not (np.linalg.norm((rk1 - rk0), ord=1) < epsilon)\n",
    "\n",
    "    return rk1\n",
    "\n",
    "\n",
    "def display_websites(dictionary_links, result_page_rank, matrix_size):\n",
    "    # i is the website real id\n",
    "    sorted_index_website_array = [(dictionary_links[i], result_page_rank[i - 1]) for i in range(1, matrix_size + 1)]\n",
    "    sorted_index_website_array.sort(key=take_pagerank_result, reverse=True)\n",
    "    print(sorted_index_website_array[:10])\n",
    "\n",
    "\n",
    "def take_pagerank_result(elem):\n",
    "    return elem[1]\n",
    "\n",
    "\n",
    "def create_spider_trap_matrix(matrix_size):\n",
    "    matrix = []\n",
    "    for _ in range(matrix_size):\n",
    "        matrix.append([(float(1) / matrix_size) for _ in range(matrix_size)])\n",
    "    return np.array(matrix)\n",
    "\n",
    "\n",
    "def create_matrix_M_with_spidertrap(M, spider_matrix, beta):\n",
    "    return M * beta + spider_matrix * (1 - beta)\n",
    "\n",
    "\n",
    "def create_matrix_r(matrix_size):\n",
    "    r0 = []\n",
    "    for i in range(matrix_size):\n",
    "        r0.append(float(1) / matrix_size)\n",
    "    return np.array(r0).transpose()"
   ],
   "metadata": {
    "collapsed": false,
    "pycharm": {
     "name": "#%%\n"
    }
   }
  },
  {
   "cell_type": "code",
   "execution_count": 96,
   "metadata": {
    "pycharm": {
     "name": "#%%\n"
    }
   },
   "outputs": [],
   "source": []
  },
  {
   "cell_type": "markdown",
   "metadata": {
    "pycharm": {
     "name": "#%% md\n"
    }
   },
   "source": [
    "We can now create our stochastic matrix with the r matrix."
   ]
  },
  {
   "cell_type": "code",
   "execution_count": 97,
   "metadata": {
    "pycharm": {
     "name": "#%%\n"
    }
   },
   "outputs": [
    {
     "ename": "NameError",
     "evalue": "name 'create_matrix_m' is not defined",
     "output_type": "error",
     "traceback": [
      "\u001B[1;31m---------------------------------------------------------------------------\u001B[0m",
      "\u001B[1;31mNameError\u001B[0m                                 Traceback (most recent call last)",
      "Input \u001B[1;32mIn [97]\u001B[0m, in \u001B[0;36m<cell line: 4>\u001B[1;34m()\u001B[0m\n\u001B[0;32m      1\u001B[0m \u001B[38;5;124;03m\"\"\"\u001B[39;00m\n\u001B[0;32m      2\u001B[0m \u001B[38;5;124;03mCreate matrix M.\u001B[39;00m\n\u001B[0;32m      3\u001B[0m \u001B[38;5;124;03m\"\"\"\u001B[39;00m\n\u001B[1;32m----> 4\u001B[0m M \u001B[38;5;241m=\u001B[39m \u001B[43mcreate_matrix_m\u001B[49m(matrixSize, websites_nbr_successors_list, column1, column2)\n\u001B[0;32m      6\u001B[0m \u001B[38;5;124;03m\"\"\"\u001B[39;00m\n\u001B[0;32m      7\u001B[0m \u001B[38;5;124;03mCreate matrix r\u001B[39;00m\n\u001B[0;32m      8\u001B[0m \u001B[38;5;124;03m\"\"\"\u001B[39;00m\n\u001B[0;32m      9\u001B[0m r0 \u001B[38;5;241m=\u001B[39m create_matrix_r(matrixSize)\n",
      "\u001B[1;31mNameError\u001B[0m: name 'create_matrix_m' is not defined"
     ]
    }
   ],
   "source": [
    "\"\"\"\n",
    "Create matrix M.\n",
    "\"\"\"\n",
    "M = create_matrix_m(matrixSize, websites_nbr_successors_list, column1, column2)\n",
    "\n",
    "\"\"\"\n",
    "Create matrix r\n",
    "\"\"\"\n",
    "r0 = create_matrix_r(matrixSize)"
   ]
  },
  {
   "cell_type": "markdown",
   "metadata": {
    "pycharm": {
     "name": "#%% md\n"
    }
   },
   "source": [
    "Calculation of the PageRank and display."
   ]
  },
  {
   "cell_type": "code",
   "execution_count": null,
   "metadata": {
    "pycharm": {
     "name": "#%%\n"
    }
   },
   "outputs": [],
   "source": [
    "\"\"\"\n",
    "Apply algorithm to calculate the solution.\n",
    "\"\"\"\n",
    "print(\"\\nPageRank with spider trap, teleport not implemented\")\n",
    "pageRank = calculate_pagerank(M, r0)\n",
    "display_websites(dictionary_links, pageRank, matrixSize)"
   ]
  },
  {
   "cell_type": "markdown",
   "metadata": {
    "pycharm": {
     "name": "#%% md\n"
    }
   },
   "source": [
    "## Question 2\n",
    "\n",
    "The Spider Trap can be prevented by implementing teleport with a matrix that only has the value in each location.\n",
    "$$\\frac{1}{numberOfRelations}$$"
   ]
  },
  {
   "cell_type": "code",
   "execution_count": null,
   "metadata": {
    "pycharm": {
     "name": "#%%\n"
    }
   },
   "outputs": [],
   "source": [
    "# Question 2\n",
    "\"\"\"\n",
    "Implementing spider trap.\n",
    "Recreating M matrix.\n",
    "\"\"\"\n",
    "beta = 0.8\n",
    "spider_trap_matrix = create_spider_trap_matrix(matrixSize)\n"
   ]
  },
  {
   "cell_type": "markdown",
   "metadata": {
    "pycharm": {
     "name": "#%% md\n"
    }
   },
   "source": [
    "After calculating the spider_trap_matrix we need to do an operation between our matrix M and the spider_matrix.\n",
    "The operation is :  \n",
    "$$ M * \\beta + spider_matrix * (1 - \\beta)$$  \n",
    "Beta is choosen between 0.8 and 0.9.  \n",
    "In our exercice we choose \\beta = 0.8"
   ]
  },
  {
   "cell_type": "code",
   "execution_count": null,
   "metadata": {
    "pycharm": {
     "name": "#%%\n"
    }
   },
   "outputs": [],
   "source": [
    "M_plus_spider = create_matrix_M_with_spidertrap(M, spider_trap_matrix, beta)"
   ]
  },
  {
   "cell_type": "markdown",
   "metadata": {
    "pycharm": {
     "name": "#%% md\n"
    }
   },
   "source": [
    "Now that we have calculated our matrix M with the teleportation to prevent from spider trap we can calculate our PageRank."
   ]
  },
  {
   "cell_type": "code",
   "execution_count": null,
   "metadata": {
    "pycharm": {
     "name": "#%%\n"
    }
   },
   "outputs": [],
   "source": [
    "pageRank = calculate_pagerank(M_plus_spider, r0)\n",
    "display_websites(dictionary_links, pageRank, matrixSize)"
   ]
  },
  {
   "cell_type": "markdown",
   "metadata": {
    "pycharm": {
     "name": "#%% md\n"
    }
   },
   "source": [
    "## Question 3\n",
    "\n",
    "In the case of a dead ends, we need to delete all websites that have no successors or its only successor is itself.  \n",
    "To do so we create a list, to know which website have a dead ends."
   ]
  },
  {
   "cell_type": "code",
   "execution_count": null,
   "metadata": {
    "pycharm": {
     "name": "#%%\n"
    }
   },
   "outputs": [],
   "source": [
    "# Question 3\n",
    "\"\"\"\n",
    "Dead ends\n",
    "\"\"\"\n",
    "\n",
    "\"\"\"\n",
    "List all the website that have no successors or has only one successors that is itself\n",
    "\"\"\"\n",
    "website_to_delele_list = []\n",
    "for website in range(1, matrixSize + 1):\n",
    "    number_sucessors = column2.count(website)\n",
    "    if number_sucessors == 0:\n",
    "        website_to_delele_list.append(website)\n",
    "    elif number_sucessors == 1 and column1[website - 1] == website:\n",
    "        website_to_delele_list.append(website)\n",
    "\n",
    "print(\"Websites that have dead ends : \")\n",
    "print(website_to_delele_list)"
   ]
  },
  {
   "cell_type": "markdown",
   "metadata": {
    "pycharm": {
     "name": "#%% md\n"
    }
   },
   "source": [
    "To prevent dead ends we are deleting all reference to a website that has dead ends.\n",
    "We are deleting all lines where a reference to one of these wesbite is made."
   ]
  },
  {
   "cell_type": "code",
   "execution_count": null,
   "metadata": {
    "pycharm": {
     "name": "#%%\n"
    }
   },
   "outputs": [],
   "source": [
    "\"\"\"\n",
    "recreate the list of website/successors with only the website that have successors\n",
    "\"\"\"\n",
    "new_column1 = []\n",
    "new_column2 = []\n",
    "\n",
    "for successor, website in zip(column1, column2):\n",
    "    if website not in website_to_delele_list and successor not in website_to_delele_list:\n",
    "        new_column1.append(successor)\n",
    "        new_column2.append(website)\n",
    "\n",
    "new_matrixSize = matrixSize - len(website_to_delele_list)"
   ]
  },
  {
   "cell_type": "markdown",
   "metadata": {
    "pycharm": {
     "name": "#%% md\n"
    }
   },
   "source": [
    "Then we shift all ID of the websites and we re-create a dictionary to re-create a link between the website and its new ID."
   ]
  },
  {
   "cell_type": "code",
   "execution_count": null,
   "metadata": {
    "pycharm": {
     "name": "#%%\n"
    }
   },
   "outputs": [],
   "source": [
    "\"\"\"\n",
    "Once some websites are deleted, we need to shift all the website id that are greater than the deleted one \n",
    "\"\"\"\n",
    "\n",
    "totalRelations = len(new_column1)\n",
    "\n",
    "for website_to_delete in website_to_delele_list:\n",
    "    for i in range(0, totalRelations):\n",
    "        if new_column1[i] > website_to_delete:\n",
    "            new_column1[i] -= 1\n",
    "        if new_column2[i] > website_to_delete:\n",
    "            new_column2[i] -= 1\n",
    "\n",
    "\"\"\"\n",
    "Rearange the dictionary of website index/links \n",
    "\"\"\"\n",
    "\n",
    "for website_to_delete in website_to_delele_list:\n",
    "    for i in range(1, totalRelations + 1):\n",
    "        if i >= website_to_delete and str(i) in dictionary_links:\n",
    "            dictionary_links[str(i)] = dictionary_links[str(i + 1)]"
   ]
  },
  {
   "cell_type": "markdown",
   "metadata": {
    "pycharm": {
     "name": "#%% md\n"
    }
   },
   "source": [
    "Now that we have all ours data. We can redo the previous step :\n",
    "- creation of matrix M\n",
    "- creation of spider matrix \n",
    "- ..."
   ]
  },
  {
   "cell_type": "code",
   "execution_count": null,
   "metadata": {
    "pycharm": {
     "name": "#%%\n"
    }
   },
   "outputs": [],
   "source": [
    "\"\"\"\n",
    "Recreate the list of number of successor a website have\n",
    "\"\"\"\n",
    "new_websites_nbr_successors_list = {}\n",
    "for website in range(1, new_matrixSize + 1):\n",
    "    new_websites_nbr_successors_list[website] = new_column2.count(website)\n",
    "\n",
    "\"\"\"\n",
    "Create the new matrix M.\n",
    "\"\"\"\n",
    "M = create_matrix_m(new_matrixSize, new_websites_nbr_successors_list, new_column1, new_column2)\n",
    "\n",
    "\"\"\"\n",
    "Create the new spide matrix \n",
    "\"\"\"\n",
    "beta = 0.8\n",
    "spider_trap_matrix = create_spider_trap_matrix(new_matrixSize)\n",
    "\n",
    "\"\"\"\n",
    "Calulate the new matrix M with teleport\n",
    "\"\"\"\n",
    "M_plus_spider = create_matrix_M_with_spidertrap(M, spider_trap_matrix, beta)\n",
    "\n",
    "\"\"\"\n",
    "Create matrix r\n",
    "\"\"\"\n",
    "r0 = create_matrix_r(new_matrixSize)\n",
    "\n",
    "\"\"\"\n",
    "Apply algorithm to calculate the solution.\n",
    "\"\"\"\n",
    "print(\"\\nPageRank with spider trap, teleport not implemented\")\n",
    "pageRank = calculate_pagerank(M_plus_spider, r0)\n",
    "display_websites(dictionary_links, pageRank, new_matrixSize)\n"
   ]
  }
 ],
 "metadata": {
  "interpreter": {
   "hash": "5be84bbf639de8ce9fb90f270122521ec6634755176df17e92ed2149c7e8e59c"
  },
  "kernelspec": {
   "display_name": "Python 3.10.2 64-bit",
   "language": "python",
   "name": "python3"
  },
  "language_info": {
   "codemirror_mode": {
    "name": "ipython",
    "version": 3
   },
   "file_extension": ".py",
   "mimetype": "text/x-python",
   "name": "python",
   "nbconvert_exporter": "python",
   "pygments_lexer": "ipython3",
   "version": "3.10.2"
  },
  "orig_nbformat": 4
 },
 "nbformat": 4,
 "nbformat_minor": 2
}