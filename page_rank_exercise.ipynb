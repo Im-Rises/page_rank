{
 "cells": [
  {
   "cell_type": "markdown",
   "metadata": {
    "pycharm": {
     "name": "#%% md\n"
    }
   },
   "source": [
    "# Page Rank exercise\n",
    "\n",
    "## introduction\n",
    "\n",
    "For this exercise we'll use the `hollins.dat` file provided with the project.\n",
    "The first line of the file indicate the number of websites (6012) from 1 to 6012, the second number (23875) is the number of relations successor/predecessor.\n",
    "The following 6012 are all the website link with their index.\n",
    "The last 23875 are in column 1 the predecessors and in column 2 the successors of the websites represented by their index."
   ]
  },
  {
   "cell_type": "markdown",
   "source": [
    "First thing to do we load the `hollins.dat` file and create dictionary between the index of the website to its link."
   ],
   "metadata": {
    "collapsed": false,
    "pycharm": {
     "name": "#%% md\n"
    }
   }
  },
  {
   "cell_type": "code",
   "execution_count": 2,
   "metadata": {
    "pycharm": {
     "name": "#%%\n"
    }
   },
   "outputs": [
    {
     "name": "stdout",
     "output_type": "stream",
     "text": [
      "Size of Matrix : 6012\n",
      "Number of total relations : 23875\n"
     ]
    }
   ],
   "source": [
    "# Here we retrive the datas from the file. The size of the stochastic matrix M and the number of successors.\n",
    "\n",
    "\"\"\"\n",
    "Retrieve data size from file.\n",
    "\"\"\"\n",
    "dictionary_links = {}\n",
    "f = open(\"hollins.dat\", \"r\")\n",
    "matrixSize, totalRelations = f.readline().split(\" \")\n",
    "matrixSize = int(matrixSize)\n",
    "totalRelations = int(totalRelations)\n",
    "print(\"Size of Matrix : {}\".format(matrixSize))\n",
    "print(\"Number of total relations : {}\".format(totalRelations))"
   ]
  },
  {
   "cell_type": "code",
   "execution_count": 1,
   "outputs": [],
   "source": [
    "import numpy as np\n",
    "\n",
    "def calculate_pagerank(M, r0):\n",
    "    epsilon = 0.1\n",
    "    num_iteration = 0\n",
    "    do_loop = True\n",
    "\n",
    "    rk1 = np.dot(M, r0)\n",
    "    result = np.array2string(rk1, precision=2, separator=',', suppress_small=True)\n",
    "    print(\"L'itération a pour valeur r{}\".format(num_iteration) + \" = \" + result)\n",
    "\n",
    "    while do_loop:\n",
    "        num_iteration += 1\n",
    "        rk0 = rk1\n",
    "        rk1 = np.dot(M, rk1)\n",
    "        result = np.array2string(rk1, precision=2, separator=',', suppress_small=True)\n",
    "        print(\n",
    "            \"L'itération a pour valeur r{}\".format(num_iteration) + \" = \" + result)\n",
    "        do_loop = not (np.linalg.norm((rk1 - rk0), ord=1) < epsilon)\n",
    "\n",
    "    return rk1\n",
    "\n",
    "\n",
    "def display_websites(dictionary_links, result_page_rank, matrix_size):\n",
    "    # i is the website real id\n",
    "    sorted_index_website_array = [(dictionary_links[i], result_page_rank[i-1]) for i in range(1, matrix_size + 1)]\n",
    "    sorted_index_website_array.sort(key=take_pagerank_result, reverse=True)\n",
    "    print(sorted_index_website_array[:10])\n",
    "\n",
    "\n",
    "\n",
    "def take_pagerank_result(elem):\n",
    "    return elem[1]\n",
    "\n",
    "\n",
    "def create_matrix_m(matrix_size, websites_nbr_successors_list, column1, column2):\n",
    "    # Create 2D array of matrix_size*matrix_size\n",
    "    M = []\n",
    "    for _ in range(matrix_size):\n",
    "        M.append([0 for _ in range(matrix_size)])\n",
    "    for successor, website in zip(column1, column2):\n",
    "        if websites_nbr_successors_list[website]:\n",
    "            website_nbr_successors = websites_nbr_successors_list[website]\n",
    "        else:\n",
    "            website_nbr_successors=0\n",
    "        # Array index begins at 0 so we need to substract 1 from the real index of the website/successor\n",
    "        if website_nbr_successors != 0:\n",
    "            M[successor - 1][website - 1] = (float(1) / website_nbr_successors)\n",
    "        else:\n",
    "            M[successor - 1][website - 1] = 0\n",
    "    return np.array(M)\n",
    "\n",
    "\n",
    "def create_spider_trap_matrix(matrix_size):\n",
    "    matrix = []\n",
    "    for _ in range(matrix_size):\n",
    "        matrix.append([(float(1)/matrix_size) for _ in range(matrix_size)])\n",
    "    return np.array(matrix)\n",
    "\n",
    "def create_matrix_M_with_spidertrap(M, spider_matrix, beta):\n",
    "    return M * beta + spider_matrix * (1 -beta)\n",
    "\n",
    "def create_matrix_r(matrix_size):\n",
    "    r0 = []\n",
    "    for i in range(matrix_size):\n",
    "        r0.append(float(1) / matrix_size)\n",
    "    return np.array(r0).transpose()"
   ],
   "metadata": {
    "collapsed": false,
    "pycharm": {
     "name": "#%%\n"
    }
   }
  },
  {
   "cell_type": "markdown",
   "source": [
    "## Question 1 - a)\n",
    "\n"
   ],
   "metadata": {
    "collapsed": false,
    "pycharm": {
     "name": "#%% md\n"
    }
   }
  },
  {
   "cell_type": "markdown",
   "metadata": {
    "pycharm": {
     "name": "#%% md\n"
    }
   },
   "source": [
    "We also create a dictionary to know the relation between an id of a webstie and its name."
   ]
  },
  {
   "cell_type": "code",
   "execution_count": 3,
   "metadata": {
    "pycharm": {
     "name": "#%%\n"
    }
   },
   "outputs": [],
   "source": [
    "\"\"\"\n",
    "Create dictionary from number to website link.\n",
    "\"\"\"\n",
    "for i in range(1, matrixSize + 1):\n",
    "    dictionary_links[i] = f.readline().split()[1]"
   ]
  },
  {
   "cell_type": "markdown",
   "metadata": {
    "pycharm": {
     "name": "#%% md\n"
    }
   },
   "source": [
    "## Question 1 - b)\n",
    "\n",
    "Here we create two arrays to represent the successors in the left column (column1) and the website in the right column (column2).\n",
    "For example :\n",
    "\n",
    "In the example below, the website 5 has a successor that is the website 3.\n",
    "\n",
    "| column1 (right)  | column2 (right) |\n",
    "|---|---|\n",
    "| 3  | 5  |\n",
    "| 1  | 2  |\n",
    "| 8  | 199  |"
   ]
  },
  {
   "cell_type": "code",
   "execution_count": 4,
   "metadata": {
    "pycharm": {
     "name": "#%%\n"
    }
   },
   "outputs": [],
   "source": [
    "\"\"\"\n",
    "Create two arrays for each column of the relations.\n",
    "\"\"\"\n",
    "column1 = []\n",
    "column2 = []\n",
    "for i in range(totalRelations):\n",
    "    line = f.readline().split(\" \")\n",
    "    column1.append(int(line[0].strip()))\n",
    "    column2.append(int(line[1].strip()))"
   ]
  },
  {
   "cell_type": "markdown",
   "metadata": {
    "pycharm": {
     "name": "#%% md\n"
    }
   },
   "source": [
    "Then we create a array that indicate the number of successors a website has (websites_nbr_successors_list)."
   ]
  },
  {
   "cell_type": "code",
   "execution_count": 5,
   "metadata": {
    "pycharm": {
     "name": "#%%\n"
    }
   },
   "outputs": [],
   "source": [
    "\"\"\"\n",
    "Count the number of successors a website has\n",
    "\"\"\"\n",
    "websites_nbr_successors_list = {}\n",
    "for website in range(1, matrixSize + 1):\n",
    "    websites_nbr_successors_list[website]=column2.count(website)"
   ]
  },
  {
   "cell_type": "markdown",
   "metadata": {
    "pycharm": {
     "name": "#%% md\n"
    }
   },
   "source": [
    "We can now create our stochastic matrix with the r matrix."
   ]
  },
  {
   "cell_type": "code",
   "execution_count": 6,
   "metadata": {
    "pycharm": {
     "name": "#%%\n"
    }
   },
   "outputs": [],
   "source": [
    "\"\"\"\n",
    "Create matrix M.\n",
    "\"\"\"\n",
    "M = create_matrix_m(matrixSize, websites_nbr_successors_list, column1, column2)\n",
    "\n",
    "\"\"\"\n",
    "Create matrix r\n",
    "\"\"\"\n",
    "r0 = create_matrix_r(matrixSize)"
   ]
  },
  {
   "cell_type": "markdown",
   "metadata": {
    "pycharm": {
     "name": "#%% md\n"
    }
   },
   "source": [
    "Calculation of the PageRank and display."
   ]
  },
  {
   "cell_type": "code",
   "execution_count": 7,
   "metadata": {
    "pycharm": {
     "name": "#%%\n"
    }
   },
   "outputs": [
    {
     "name": "stdout",
     "output_type": "stream",
     "text": [
      "\n",
      "PageRank with spider trap, teleport not implemented\n",
      "L'itération a pour valeur r0 = [0.,0.,0.,...,0.,0.,0.]\n",
      "L'itération a pour valeur r1 = [0.01,0.  ,0.  ,...,0.  ,0.  ,0.  ]\n",
      "L'itération a pour valeur r2 = [0.02,0.  ,0.  ,...,0.  ,0.  ,0.  ]\n",
      "L'itération a pour valeur r3 = [0.04,0.  ,0.  ,...,0.  ,0.  ,0.  ]\n",
      "L'itération a pour valeur r4 = [0.01,0.  ,0.  ,...,0.  ,0.  ,0.  ]\n",
      "L'itération a pour valeur r5 = [0.02,0.  ,0.  ,...,0.  ,0.  ,0.  ]\n",
      "L'itération a pour valeur r6 = [0.02,0.  ,0.  ,...,0.  ,0.  ,0.  ]\n",
      "L'itération a pour valeur r7 = [0.01,0.  ,0.  ,...,0.  ,0.  ,0.  ]\n",
      "L'itération a pour valeur r8 = [0.01,0.  ,0.  ,...,0.  ,0.  ,0.  ]\n",
      "L'itération a pour valeur r9 = [0.01,0.  ,0.  ,...,0.  ,0.  ,0.  ]\n",
      "[('http://www1.hollins.edu/registrar/body.htm', 0.02596292021224375), ('http://www1.hollins.edu/', 0.012038830265826344), ('http://www1.hollins.edu/registrar/studfacinfo.htm', 0.010544061170831728), ('http://www1.hollins.edu/registrar/Maj-Min%20Years.htm', 0.008000435769581319), ('http://www1.hollins.edu/docs/academics/acad.htm', 0.005736525261703338), ('http://www.hollins.edu/sitemap/sitemap.htm', 0.005668645789071766), ('http://www1.hollins.edu/faculty/clarkjm/Stat140/Stat140fall03schedule.html', 0.005613647761758474), ('http://www1.hollins.edu/Docs/comptech/crc.htm', 0.005600021428395982), ('http://www.hollins.edu/undergrad/classical/faculty.htm', 0.005456119201519498), ('http://www1.hollins.edu/Docs/CompTech/crc.htm', 0.005367106520680584)]\n"
     ]
    }
   ],
   "source": [
    "\"\"\"\n",
    "Apply algorithm to calculate the solution.\n",
    "\"\"\"\n",
    "print(\"\\nPageRank with spider trap, teleport not implemented\")\n",
    "pageRank = calculate_pagerank(M, r0)\n",
    "display_websites(dictionary_links, pageRank, matrixSize)"
   ]
  },
  {
   "cell_type": "markdown",
   "metadata": {
    "pycharm": {
     "name": "#%% md\n"
    }
   },
   "source": [
    "## Question 2\n",
    "\n",
    "The Spider Trap can be prevented by implementing teleport with a matrix that only has the value in each location.\n",
    "$$\\frac{1}{numberOfRelations}$$"
   ]
  },
  {
   "cell_type": "code",
   "execution_count": 8,
   "metadata": {
    "pycharm": {
     "name": "#%%\n"
    }
   },
   "outputs": [],
   "source": [
    "# Question 2\n",
    "\"\"\"\n",
    "Implementing spider trap.\n",
    "Recreating M matrix.\n",
    "\"\"\"\n",
    "beta = 0.8\n",
    "spider_trap_matrix = create_spider_trap_matrix(matrixSize)\n"
   ]
  },
  {
   "cell_type": "markdown",
   "metadata": {
    "pycharm": {
     "name": "#%% md\n"
    }
   },
   "source": [
    "After calculating the spider_trap_matrix we need to do an operation between our matrix M and the spider_matrix.\n",
    "The operation is :  \n",
    "$$ M * \\beta + spider_matrix * (1 - \\beta)$$  \n",
    "Beta is choosen between 0.8 and 0.9.  \n",
    "In our exercice we choose \\beta = 0.8"
   ]
  },
  {
   "cell_type": "code",
   "execution_count": 9,
   "metadata": {
    "pycharm": {
     "name": "#%%\n"
    }
   },
   "outputs": [],
   "source": [
    "M_plus_spider = create_matrix_M_with_spidertrap(M, spider_trap_matrix, beta)"
   ]
  },
  {
   "cell_type": "markdown",
   "metadata": {
    "pycharm": {
     "name": "#%% md\n"
    }
   },
   "source": [
    "Now that we have calculated our matrix M with the teleportation to prevent from spider trap we can calculate our PageRank."
   ]
  },
  {
   "cell_type": "code",
   "execution_count": 10,
   "metadata": {
    "pycharm": {
     "name": "#%%\n"
    }
   },
   "outputs": [
    {
     "name": "stdout",
     "output_type": "stream",
     "text": [
      "L'itération a pour valeur r0 = [0.,0.,0.,...,0.,0.,0.]\n",
      "L'itération a pour valeur r1 = [0.,0.,0.,...,0.,0.,0.]\n",
      "L'itération a pour valeur r2 = [0.01,0.  ,0.  ,...,0.  ,0.  ,0.  ]\n",
      "L'itération a pour valeur r3 = [0.02,0.  ,0.  ,...,0.  ,0.  ,0.  ]\n",
      "L'itération a pour valeur r4 = [0.01,0.  ,0.  ,...,0.  ,0.  ,0.  ]\n",
      "L'itération a pour valeur r5 = [0.01,0.  ,0.  ,...,0.  ,0.  ,0.  ]\n",
      "[('http://www1.hollins.edu/registrar/body.htm', 0.014554678207504917), ('http://www1.hollins.edu/', 0.01274272810850791), ('http://www1.hollins.edu/registrar/Maj-Min%20Years.htm', 0.010102191669712613), ('http://www1.hollins.edu/Registrar/body.htm', 0.009370289790500058), ('http://www1.hollins.edu/registrar/studfacinfo.htm', 0.008736212935789417), ('http://www1.hollins.edu/Registrar/Maj-Min%20Years.htm', 0.007621776620837354), ('http://www1.hollins.edu/homepages/saloweyca/Roanoke%20College_files/outline.htm', 0.006899444909569466), ('http://www1.hollins.edu/Registrar/studfacinfo.htm', 0.006453309716832427), ('http://www1.hollins.edu/docs/gvcalendar/gvarchives.htm', 0.006158045613222295), ('http://www1.hollins.edu/Docs/GVCalendar/gvarchives.htm', 0.0061392938763293065)]\n"
     ]
    }
   ],
   "source": [
    "pageRank = calculate_pagerank(M_plus_spider, r0)\n",
    "display_websites(dictionary_links, pageRank, matrixSize)"
   ]
  },
  {
   "cell_type": "markdown",
   "metadata": {
    "pycharm": {
     "name": "#%% md\n"
    }
   },
   "source": [
    "## Question 3\n",
    "\n",
    "In the case of a dead ends, we need to delete all websites that have no successors or its only successor is itself.  \n",
    "To do so we create a list, to know which website have a dead ends."
   ]
  },
  {
   "cell_type": "code",
   "execution_count": 11,
   "metadata": {
    "pycharm": {
     "name": "#%%\n"
    }
   },
   "outputs": [
    {
     "name": "stdout",
     "output_type": "stream",
     "text": [
      "Websites that have dead ends : \n",
      "[1, 51]\n"
     ]
    }
   ],
   "source": [
    "# Question 3\n",
    "\"\"\"\n",
    "Dead ends\n",
    "\"\"\"\n",
    "\n",
    "\"\"\"\n",
    "List all the website that have no successors or has only one successors that is itself\n",
    "\"\"\"\n",
    "website_to_delele_list = []\n",
    "for website in range(1, matrixSize + 1):\n",
    "    number_sucessors = column2.count(website)\n",
    "    if number_sucessors==0:\n",
    "        website_to_delele_list.append(website)\n",
    "    elif number_sucessors==1 and column1[website -1 ]==website:\n",
    "        website_to_delele_list.append(website)\n",
    "\n",
    "print(\"Websites that have dead ends : \")\n",
    "print(website_to_delele_list)"
   ]
  },
  {
   "cell_type": "markdown",
   "metadata": {
    "pycharm": {
     "name": "#%% md\n"
    }
   },
   "source": [
    "To prevent dead ends we are deleting all reference to a website that has dead ends.\n",
    "We are deleting all lines where a reference to one of these wesbite is made."
   ]
  },
  {
   "cell_type": "code",
   "execution_count": 12,
   "metadata": {
    "pycharm": {
     "name": "#%%\n"
    }
   },
   "outputs": [],
   "source": [
    "\"\"\"\n",
    "recreate the list of website/successors with only the website that have successors\n",
    "\"\"\"\n",
    "new_column1 = []\n",
    "new_column2 = []\n",
    "\n",
    "for successor, website in zip(column1, column2):\n",
    "    if website not in website_to_delele_list and successor not in website_to_delele_list:\n",
    "        new_column1.append(successor)\n",
    "        new_column2.append(website)\n",
    "\n",
    "new_matrixSize = matrixSize-len(website_to_delele_list)"
   ]
  },
  {
   "cell_type": "markdown",
   "metadata": {
    "pycharm": {
     "name": "#%% md\n"
    }
   },
   "source": [
    "Then we shift all ID of the websites and we re-create a dictionary to re-create a link between the website and its new ID."
   ]
  },
  {
   "cell_type": "code",
   "execution_count": 13,
   "metadata": {
    "pycharm": {
     "name": "#%%\n"
    }
   },
   "outputs": [],
   "source": [
    "\"\"\"\n",
    "Once some websites are deleted, we need to shift all the website id that are greater than the deleted one \n",
    "\"\"\"\n",
    "\n",
    "totalRelations = len(new_column1)\n",
    "\n",
    "for website_to_delete in website_to_delele_list:\n",
    "    for i in range(0, totalRelations):\n",
    "        if new_column1[i] > website_to_delete:\n",
    "            new_column1[i]-=1\n",
    "        if new_column2[i] > website_to_delete:\n",
    "            new_column2[i]-=1\n",
    "\n",
    "\"\"\"\n",
    "Rearange the dictionary of website index/links \n",
    "\"\"\"\n",
    "\n",
    "for website_to_delete in website_to_delele_list:\n",
    "    for i in range(1, totalRelations +1):\n",
    "        if i >= website_to_delete and str(i) in dictionary_links:\n",
    "            dictionary_links[str(i)]=dictionary_links[str(i+1)]"
   ]
  },
  {
   "cell_type": "markdown",
   "metadata": {
    "pycharm": {
     "name": "#%% md\n"
    }
   },
   "source": [
    "Now that we have all ours data. We can redo the previous step :\n",
    "- creation of matrix M\n",
    "- creation of spider matrix \n",
    "- ..."
   ]
  },
  {
   "cell_type": "code",
   "execution_count": 14,
   "metadata": {
    "pycharm": {
     "name": "#%%\n"
    }
   },
   "outputs": [
    {
     "name": "stdout",
     "output_type": "stream",
     "text": [
      "\n",
      "PageRank with spider trap, teleport not implemented\n",
      "L'itération a pour valeur r0 = [0.,0.,0.,...,0.,0.,0.]\n",
      "L'itération a pour valeur r1 = [0.  ,0.  ,0.01,...,0.  ,0.  ,0.  ]\n",
      "L'itération a pour valeur r2 = [0.,0.,0.,...,0.,0.,0.]\n",
      "L'itération a pour valeur r3 = [0.,0.,0.,...,0.,0.,0.]\n",
      "L'itération a pour valeur r4 = [0.,0.,0.,...,0.,0.,0.]\n",
      "L'itération a pour valeur r5 = [0.,0.,0.,...,0.,0.,0.]\n",
      "[('http://www.hollins.edu/alumnae/products/chairs/h-chairs.htm', 0.014540261900985956), ('http://www1.hollins.edu/registrar/forms.htm', 0.010060444808438667), ('http://www1.hollins.edu/library/illform.htm', 0.009356482351050533), ('http://www1.hollins.edu/docs/comptech/checkin/info.htm', 0.008719700398634175), ('http://www1.hollins.edu/Registrar/InternationalStudies.htm', 0.007579546712721587), ('http://www1.hollins.edu/homepages/saloweyca/ancpaint_files/outline.htm', 0.006840843697111947), ('http://www1.hollins.edu/Docs/academics/DivisionI/Classical%20Studies/saloweyca/clas%20260/default.html', 0.006437971840206265), ('http://www1.hollins.edu/docs/forms/stuservices/list%20request%20form.pdf', 0.006070505947862866), ('http://www.hollins.edu/alumnae/personal.htm', 0.006051976658282189), ('http://www1.hollins.edu/Docs/Intercultural/default.htm', 0.0057149808475813225)]\n"
     ]
    }
   ],
   "source": [
    "\"\"\"\n",
    "Recreate the list of number of successor a website have\n",
    "\"\"\"\n",
    "new_websites_nbr_successors_list = {}\n",
    "for website in range(1, new_matrixSize + 1):\n",
    "    new_websites_nbr_successors_list[website]=new_column2.count(website)\n",
    "\n",
    "\"\"\"\n",
    "Create the new matrix M.\n",
    "\"\"\"\n",
    "M = create_matrix_m(new_matrixSize, new_websites_nbr_successors_list, new_column1, new_column2)\n",
    "\n",
    "\"\"\"\n",
    "Create the new spide matrix \n",
    "\"\"\"\n",
    "beta = 0.8\n",
    "spider_trap_matrix = create_spider_trap_matrix(new_matrixSize)\n",
    "\n",
    "\"\"\"\n",
    "Calulate the new matrix M with teleport\n",
    "\"\"\"\n",
    "M_plus_spider = create_matrix_M_with_spidertrap(M, spider_trap_matrix, beta)\n",
    "\n",
    "\"\"\"\n",
    "Create matrix r\n",
    "\"\"\"\n",
    "r0 = create_matrix_r(new_matrixSize)\n",
    "\n",
    "\"\"\"\n",
    "Apply algorithm to calculate the solution.\n",
    "\"\"\"\n",
    "print(\"\\nPageRank with spider trap, teleport not implemented\")\n",
    "pageRank = calculate_pagerank(M_plus_spider, r0)\n",
    "display_websites(dictionary_links, pageRank, new_matrixSize)\n"
   ]
  }
 ],
 "metadata": {
  "interpreter": {
   "hash": "5be84bbf639de8ce9fb90f270122521ec6634755176df17e92ed2149c7e8e59c"
  },
  "kernelspec": {
   "display_name": "Python 3.10.2 64-bit",
   "language": "python",
   "name": "python3"
  },
  "language_info": {
   "codemirror_mode": {
    "name": "ipython",
    "version": 3
   },
   "file_extension": ".py",
   "mimetype": "text/x-python",
   "name": "python",
   "nbconvert_exporter": "python",
   "pygments_lexer": "ipython3",
   "version": "3.10.2"
  },
  "orig_nbformat": 4
 },
 "nbformat": 4,
 "nbformat_minor": 2
}