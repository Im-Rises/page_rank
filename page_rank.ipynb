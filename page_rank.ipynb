{
 "cells": [
  {
   "cell_type": "markdown",
   "metadata": {
    "pycharm": {
     "name": "#%% md\n"
    }
   },
   "source": [
    "# Page rank\n",
    "\n",
    "## Introduction\n",
    "\n",
    "All web pages doens't ahve the same importance.\n",
    "\n",
    "For example has my portfolio <https://im-rises.github.io> more importance in referencing the `informatic` word than <https://www.microsoft.com/>\n",
    "\n",
    "Answer : NO\n",
    "\n",
    "All pages do not have the importance."
   ]
  },
  {
   "cell_type": "markdown",
   "source": [
    "## The importance of a web page\n",
    "\n",
    "A web's page importance depends on the number of pages referencing (the number of predecessors) to him.\n",
    "\n",
    "Each page has a number of successors. If the page A has an importance x with n successors, all pages referenced by will have x/n referencing importance.\n",
    "\n",
    "Notion of predecessors and successors :\n",
    "A -> B\n",
    "A has one successor B.\n",
    "B has one predecessor A.\n",
    "\n",
    "Example :\n",
    "\n",
    "![page_rank_1](images/diagram_page_rank.png)\n",
    "\n",
    "So the importance of a page is defined by the sum of all predecessors' reference.\n",
    "\n",
    "Example :\n",
    "\n",
    "$$A = \\frac{B}{2} + \\frac{A}{2}$$\n",
    "$$B = \\frac{A}{2} + C$$\n",
    "$$C = \\frac{B}{2}$$"
   ],
   "metadata": {
    "collapsed": false,
    "pycharm": {
     "name": "#%% md\n"
    }
   }
  },
  {
   "cell_type": "markdown",
   "metadata": {
    "pycharm": {
     "name": "#%% md\n"
    }
   },
   "source": [
    "## Manual resolution\n",
    "\n",
    "Because a website reference is defined by Its predecessor websites, the equations for each website is composed by the predecessor websites' influences.\n",
    "\n",
    "First we check the graph and all the relations between each website :\n",
    "\n",
    "![page_rank_2](images/diagram_page_rank_2.png)\n",
    "\n",
    "Then we find write all reference value made by one website to another :\n",
    "\n",
    "![page_rank_3](images/diagram_page_rank_3.png)\n",
    "\n",
    "Equations :  \n",
    "$$A = \\frac{E}{3} + D$$\n",
    "$$B = A + \\frac{E}{3}$$  \n",
    "$$C = B$$  \n",
    "$$D = \\frac{C}{2} + \\frac{E}{3}$$  \n",
    "$$E = \\frac{C}{2}$$  \n",
    "\n",
    "With mathematical resolution we can find the referencing value of all the websites :\n",
    "\n",
    "$$D = \\frac{C}{2} + \\frac{E}{3} = E + \\frac{E}{3} = \\frac{4E}{3}$$\n",
    "$$A = \\frac{E}{3} + D = \\frac{E}{3} + \\frac{4E}{3} = \\frac{5E}{3}$$\n",
    "$$B = A + \\frac{E}{3} = \\frac{5E}{3} + \\frac{E}{3} = 2E$$\n",
    "$$C = 2E = B$$\n",
    "\n",
    "$$A + B + C + D + E = 1$$\n",
    "$$<=> \\frac{5E}{3} + 2E + 2E + \\frac{4E}{3} + E = 1$$\n",
    "$$<=> \\frac{24E}{3} = 1$ $<=> E = \\frac{3}{24}$$\n",
    "\n",
    "$$A = \\frac{5}{24}$; B = \\frac{3}{12}; C = \\frac{3}{12}; D = \\frac{2}{12}; E = \\frac{3}{24}$$\n",
    "\n",
    "The sum of all the websites values equals 1. This solution is possible but for more precision we are going to use the matrix method.\n"
   ]
  },
  {
   "cell_type": "markdown",
   "source": [
    "## Matrix resolution\n",
    "\n",
    "The matrix is found by writing all different relations between all different websites.\n",
    "To calculate our solution, we have one stochastic matrix M and a vector r.\n",
    "\n",
    "The stochastic matrix M sized (n*n) represents all relations between all websites with the column header representing the website and the row headers the successors.\n",
    "\n",
    "The composition of the matrix follow the relations between a website and its successor/predecessors.\n",
    "\n",
    "Stochastic matrix (M) composition :\n",
    "\n",
    "|    |    |    |    |    |    |\n",
    "|----|-----|-----|-----|-----|\n",
    "|    | A   | B   | C   | D   | E   |\n",
    "| A  | A->A| B->A   | C->A   | D->A   | E->A|\n",
    "| B  | A->B| B->B   | C->B   | D->B   | E->B|\n",
    "| C  | A->C| B->C   | C->C   | D->C   | E->C|\n",
    "| D  | A->D| B->D   | C->D   | D->D   | E->D|\n",
    "| E  | A->E| B->E   | C->E   | D->E   | E->E|\n",
    "\n",
    "For example the relation at M[0,3] is D --> A.\n",
    "\n",
    "Stochastic matrix (M):\n",
    "$\\left[\\begin{array}{cccc}\n",
    "0 & 0 & 0 & 1 & 1/3 \\\\\n",
    "1 & 0 & 0 & 0 & 1/3 \\\\\n",
    "0 & 1 & 0 & 0 & 0 \\\\\n",
    "0 & 0 & 1/2 & 0 & 1/3 \\\\\n",
    "0 & 0 & 1/2 & 0 & 0 \\\\\n",
    "\\end{array} \\right]$\n",
    "\n",
    "The vector (r) is sized n the number of websites. Each value in the vector is the same 1/n so in our case 1/5 because we have 5 websites.\n",
    "\n",
    "r0 vector:\n",
    "$\\left[ \\begin{array}{cccc}\n",
    "1/5 \\\\\n",
    "1/5 \\\\\n",
    "1/5 \\\\\n",
    "1/5 \\\\\n",
    "1/5 \\\\\n",
    "\\end{array} \\right]$\n",
    "\n",
    "To get our solution with the matrix method, we use the following algorithm :\n",
    "• Initialisation : $r_{0} = [1/N,....,1/N]^{T};$\n",
    "• Iteration : $r_{k+1} = M \\cdot r_{k};$\n",
    "• Stop when |$r_{k+1} - r_{k}|_{L1} < \\epsilon ;$\n",
    "\n",
    "$|x|_{L1}$ is the L1 norm (we can also use all other vectorial norms, like the Euclidean).\n",
    "\n",
    "In a first we will define our algorithmn, to do so we create a function named calculate_page_rank with parameter epsilon, M and R0.\n",
    "The function will print in the console the output of each iteration."
   ],
   "metadata": {
    "collapsed": false,
    "pycharm": {
     "name": "#%% md\n"
    }
   }
  },
  {
   "cell_type": "code",
   "execution_count": 8,
   "outputs": [],
   "source": [
    "import numpy as np\n",
    "\n",
    "def calculate_page_rank(M, r0, epsilon):\n",
    "    numIteration = 0\n",
    "    doLoop = True\n",
    "    rk1 = np.dot(M, r0)\n",
    "    print(f\"iteration r{numIteration} = \" + np.array2string(rk1, precision=2, separator=',', suppress_small=True))\n",
    "    while doLoop:\n",
    "        numIteration += 1\n",
    "        rk0 = rk1\n",
    "        rk1 = np.dot(M, rk1)\n",
    "        print(f\"Iteration r{numIteration} = \" + np.array2string(rk1, precision=2, separator=',', suppress_small=True))\n",
    "        doLoop = not (np.linalg.norm((rk1 - rk0), ord=1) < epsilon)"
   ],
   "metadata": {
    "collapsed": false,
    "pycharm": {
     "name": "#%%\n"
    }
   }
  },
  {
   "cell_type": "markdown",
   "source": [
    "Now we define our matrices and we call the previously create function `calculate_page_rank`."
   ],
   "metadata": {
    "collapsed": false,
    "pycharm": {
     "name": "#%% md\n"
    }
   }
  },
  {
   "cell_type": "code",
   "execution_count": 9,
   "metadata": {
    "pycharm": {
     "name": "#%%\n"
    }
   },
   "outputs": [
    {
     "name": "stdout",
     "output_type": "stream",
     "text": [
      "iteration r0 = [0.27,0.27,0.2 ,0.17,0.1 ]\n",
      "Iteration r1 = [0.2 ,0.3 ,0.27,0.13,0.1 ]\n",
      "Iteration r2 = [0.17,0.23,0.3 ,0.17,0.13]\n",
      "Iteration r3 = [0.21,0.21,0.23,0.19,0.15]\n",
      "Iteration r4 = [0.24,0.26,0.21,0.17,0.12]\n",
      "Iteration r5 = [0.21,0.28,0.26,0.14,0.11]\n",
      "Iteration r6 = [0.18,0.24,0.28,0.17,0.13]\n",
      "Iteration r7 = [0.21,0.22,0.24,0.19,0.14]\n",
      "Iteration r8 = [0.23,0.26,0.22,0.17,0.12]\n",
      "Iteration r9 = [0.21,0.27,0.26,0.15,0.11]\n"
     ]
    }
   ],
   "source": [
    "M = np.array(\n",
    "    [\n",
    "        [0, 0, 0, 1, 1 / 3],\n",
    "        [1, 0, 0, 0, 1 / 3],\n",
    "        [0, 1, 0, 0, 0],\n",
    "        [0, 0, 1 / 2, 0, 1 / 3],\n",
    "        [0, 0, 1 / 2, 0, 0]\n",
    "    ]\n",
    ")\n",
    "\n",
    "r0 = np.array(\n",
    "    [1 / 5, 1 / 5, 1 / 5, 1 / 5, 1 / 5]\n",
    ").transpose()\n",
    "\n",
    "epsilon = 0.1\n",
    "\n",
    "calculate_page_rank(M, r0, epsilon)"
   ]
  },
  {
   "cell_type": "markdown",
   "metadata": {
    "pycharm": {
     "name": "#%% md\n"
    }
   },
   "source": [
    "The results of the calculus in the `Manual resolution` are equals to the algorithm's solution at iteration number 9 (r9). Our algorithm seems right.\n",
    "\n",
    "$$A = \\frac{5}{24} ≈ 0.21$$\n",
    "\n",
    "$$B = \\frac{3}{12} ≈ 0.27$$\n",
    "\n",
    "$$C = \\frac{3}{12} ≈ 0.26$$\n",
    "\n",
    "$$D = \\frac{2}{12} ≈ 0.15$$\n",
    "\n",
    "$$E = \\frac{3}{24} ≈ 0.11$$ \n",
    "\n"
   ]
  },
  {
   "cell_type": "markdown",
   "source": [
    "## Spider-trap\n",
    "\n",
    "The spider-trap is an issue that occur during the page rank. Some website can block the web-surfers in a group of website by only referencing websites in the same groups has them.\n",
    "In the previous examples you can go out and reach any website from anywhere, in the following graph it is completely impossible, once you reach D you can't leave it.\n",
    "\n",
    "![page_rank_5](images/diagram_page_rank_5.png)\n",
    "\n",
    "**Note**\n",
    ">It is the simplest representation of the spider-trap, for example the spider-trap also could have happened if D was only referencing C and C was only referencing D making impossible to get out of these websites.*\n",
    "\n",
    "\n",
    "### Resolution with the matrix method\n",
    "\n",
    "In the previous picture, you can't escape the website D that is referencing only to itself.\n",
    "\n",
    "Matrix M:\n",
    "$\\left[\\begin{array}{cccc}\n",
    "0 & 0 & 0 & 0 & E/3 \\\\\n",
    "1 & 0 & 0 & 0 & E/3 \\\\\n",
    "0 & 1 & 0 & 0 & 0 \\\\\n",
    "0 & 0 & 1/2 & 1 & E/3 \\\\\n",
    "0 & 0 & 1/2 & 0 & 0 \\\\\n",
    "\\end{array} \\right]$\n",
    "\n",
    "Vector r:\n",
    "$\\left[ \\begin{array}{cccc}\n",
    "1/5 \\\\\n",
    "1/5 \\\\\n",
    "1/5 \\\\\n",
    "1/5 \\\\\n",
    "1/5 \\\\\n",
    "\\end{array} \\right]$"
   ],
   "metadata": {
    "collapsed": false,
    "pycharm": {
     "name": "#%% md\n"
    }
   }
  },
  {
   "cell_type": "code",
   "execution_count": 10,
   "outputs": [
    {
     "name": "stdout",
     "output_type": "stream",
     "text": [
      "iteration r0 = [0.07,0.27,0.2 ,0.37,0.1 ]\n",
      "Iteration r1 = [0.03,0.1 ,0.27,0.5 ,0.1 ]\n",
      "Iteration r2 = [0.03,0.07,0.1 ,0.67,0.13]\n",
      "Iteration r3 = [0.04,0.08,0.07,0.76,0.05]\n",
      "Iteration r4 = [0.02,0.06,0.08,0.81,0.03]\n",
      "Iteration r5 = [0.01,0.03,0.06,0.86,0.04]\n",
      "Iteration r6 = [0.01,0.02,0.03,0.9 ,0.03]\n"
     ]
    }
   ],
   "source": [
    "M = np.array(\n",
    "    [\n",
    "        [0, 0,     0, 0, 1 / 3],\n",
    "        [1, 0,     0, 0, 1 / 3],\n",
    "        [0, 1,     0, 0,     0],\n",
    "        [0, 0, 1 / 2, 1, 1 / 3],\n",
    "        [0, 0, 1 / 2, 0,     0]\n",
    "    ]\n",
    ")\n",
    "\n",
    "r0 = np.array(\n",
    "    [1 / 5, 1 / 5, 1 / 5, 1 / 5, 1 / 5]\n",
    ").transpose()\n",
    "\n",
    "epsilon = 0.1\n",
    "calculate_page_rank(M, r0, epsilon)\n"
   ],
   "metadata": {
    "collapsed": false,
    "pycharm": {
     "name": "#%%\n"
    }
   }
  },
  {
   "cell_type": "markdown",
   "source": [
    "With a spider-trap issue the result are completely changed, the website D has 0.9 as reference value. The other websites being between 0.01 and 0.03. Every surfer is blocked in the D website making it the most visited website and far from the other.\n",
    "To solve this issue, we implement teleport."
   ],
   "metadata": {
    "collapsed": false,
    "pycharm": {
     "name": "#%% md\n"
    }
   }
  },
  {
   "cell_type": "markdown",
   "source": [
    "## Teleport\n",
    "\n",
    "The teleport is a way for a web-surfer to get out of any spider-trap. A web-surfer will randomly jump from the website to another.\n",
    "\n",
    "To prevent the spider-trap issue Google uses the random teleports.\n",
    "\n",
    "At each iteration, the web surfer can :\n",
    "- Jump to a random link with a probability $\\beta$.\n",
    "- Jump uniformly to a random page with a probability $1 - \\beta$.\n",
    "\n",
    "The $\\beta$ value must be set between 0.8 and 0.9.\n",
    "\n",
    "This solution will teleport every web surfer out of every spider-trap.\n",
    "\n",
    "To implement the teleport at the $M \\cdot r$ step we will do another operation.\n",
    "\n",
    "Like before, we have:\n",
    "\n",
    "Matrix M:\n",
    "$\\left[\\begin{array}{cccc}\n",
    "0 & 0 & 0 & 0 & E/3 \\\\\n",
    "1 & 0 & 0 & 0 & E/3 \\\\\n",
    "0 & 1 & 0 & 0 & 0 \\\\\n",
    "0 & 0 & 1/2 & 1 & E/3 \\\\\n",
    "0 & 0 & 1/2 & 0 & 0 \\\\\n",
    "\\end{array} \\right]$\n",
    "\n",
    "Vecotr r:\n",
    "$\\left[ \\begin{array}{cccc}\n",
    "1/5 \\\\\n",
    "1/5 \\\\\n",
    "1/5 \\\\\n",
    "1/5 \\\\\n",
    "1/5 \\\\\n",
    "\\end{array} \\right]$\n",
    "\n",
    "And a new matrix that has the same size has M and is full of 1/5 (1 divided by the number of websites).\n",
    "\n",
    "Matrix T:\n",
    "$\\left[\\begin{array}{cccc}\n",
    "1/5 & 1/5 & 1/5 & 1/5 & 1/5 \\\\\n",
    "1/5 & 1/5 & 1/5 & 1/5 & 1/5 \\\\\n",
    "1/5 & 1/5 & 1/5 & 1/5 & 1/5 \\\\\n",
    "1/5 & 1/5 & 1/5 & 1/5 & 1/5 \\\\\n",
    "1/5 & 1/5 & 1/5 & 1/5 & 1/5 \\\\\n",
    "\\end{array} \\right]$\n",
    "\n",
    "This last matrix is what allow a web-surfer to jump out of a spider-trap.\n",
    "\n",
    "Then we use our previous algorithm again with our new matrix:\n",
    "$M' = M*\\beta + T*(1-\\beta)$\n",
    "\n",
    "Beta is defined by you and is generally 0.8 or 0.9."
   ],
   "metadata": {
    "collapsed": false,
    "pycharm": {
     "name": "#%% md\n"
    }
   }
  },
  {
   "cell_type": "code",
   "execution_count": 11,
   "outputs": [],
   "source": [
    "def teleport_operation(M, T,beta):\n",
    "    return M*beta + T*(1-beta)"
   ],
   "metadata": {
    "collapsed": false,
    "pycharm": {
     "name": "#%%\n"
    }
   }
  },
  {
   "cell_type": "code",
   "execution_count": 12,
   "outputs": [
    {
     "name": "stdout",
     "output_type": "stream",
     "text": [
      "iteration r0 = [0.09,0.25,0.2 ,0.33,0.12]\n",
      "Iteration r1 = [0.07,0.15,0.24,0.42,0.12]\n",
      "Iteration r2 = [0.07,0.13,0.16,0.5 ,0.14]\n",
      "Iteration r3 = [0.08,0.13,0.14,0.54,0.1 ]\n"
     ]
    }
   ],
   "source": [
    "beta = 0.8\n",
    "epsilon = 0.1\n",
    "\n",
    "M = np.array(\n",
    "    [\n",
    "        [0, 0,     0, 0, 1 / 3],\n",
    "        [1, 0,     0, 0, 1 / 3],\n",
    "        [0, 1,     0, 0,     0],\n",
    "        [0, 0, 1 / 2, 1, 1 / 3],\n",
    "        [0, 0, 1 / 2, 0,     0]\n",
    "    ]\n",
    ")\n",
    "\n",
    "T = np.array(\n",
    "    [\n",
    "        [1/5, 1/5, 1/5, 1/5, 1/5],\n",
    "        [1/5, 1/5, 1/5, 1/5, 1/5],\n",
    "        [1/5, 1/5, 1/5, 1/5, 1/5],\n",
    "        [1/5, 1/5, 1/5, 1/5, 1/5],\n",
    "        [1/5, 1/5, 1/5, 1/5, 1/5],\n",
    "    ]\n",
    ")\n",
    "\n",
    "r0 = np.array(\n",
    "    [1 / 5, 1 / 5, 1 / 5, 1 / 5, 1 / 5]\n",
    ").transpose()\n",
    "\n",
    "\n",
    "M = teleport_operation(M,T,beta)\n",
    "\n",
    "calculate_page_rank(M, r0, epsilon)\n"
   ],
   "metadata": {
    "collapsed": false,
    "pycharm": {
     "name": "#%%\n"
    }
   }
  },
  {
   "cell_type": "markdown",
   "source": [
    "The values for each website are now more evenly distributed. The website D does not have 90% of the web referencing value anymore, now it has 50%."
   ],
   "metadata": {
    "collapsed": false,
    "pycharm": {
     "name": "#%% md\n"
    }
   }
  },
  {
   "cell_type": "markdown",
   "source": [
    "## Dead ends\n",
    "\n",
    "<!--\n",
    "**Note**\n",
    "For this section I decided to not use the teleport implementation just to simplify and focus on the dead ends issue.\n",
    "-->\n",
    "\n",
    "In the case where we have a website which has predecessor but no successors at all the calculation may have some issues.\n",
    "\n",
    "![page_rank_4](images/diagram_page_rank_4.png)\n",
    "\n",
    "M matrix :\n",
    "$\\left[\\begin{array}{cccc}\n",
    "0 & 0 & 0 & 0 & 1/3 \\\\\n",
    "1 & 0 & 0 & 0 & 1/3 \\\\\n",
    "0 & 1 & 0 & 0 & 0 \\\\\n",
    "0 & 0 & 1/2 & 0 & 1/3 \\\\\n",
    "0 & 0 & 1/2 & 0 & 0 \\\\\n",
    "\\end{array} \\right]$\n",
    "\n",
    "r vector :\n",
    "$\\left[ \\begin{array}{cccc}\n",
    "1/5 \\\\\n",
    "1/5 \\\\\n",
    "1/5 \\\\\n",
    "1/5 \\\\\n",
    "1/5 \\\\\n",
    "\\end{array} \\right]$\n",
    "\n",
    "Matrix T:\n",
    "$\\left[\\begin{array}{cccc}\n",
    "1/5 & 1/5 & 1/5 & 1/5 & 1/5 \\\\\n",
    "1/5 & 1/5 & 1/5 & 1/5 & 1/5 \\\\\n",
    "1/5 & 1/5 & 1/5 & 1/5 & 1/5 \\\\\n",
    "1/5 & 1/5 & 1/5 & 1/5 & 1/5 \\\\\n",
    "1/5 & 1/5 & 1/5 & 1/5 & 1/5 \\\\\n",
    "\\end{array} \\right]$\n",
    "\n",
    "Teleport Matrix M:\n",
    "$M' = M*\\beta + T*(1-\\beta)$"
   ],
   "metadata": {
    "collapsed": false,
    "pycharm": {
     "name": "#%% md\n"
    }
   }
  },
  {
   "cell_type": "code",
   "execution_count": 13,
   "outputs": [
    {
     "name": "stdout",
     "output_type": "stream",
     "text": [
      "iteration r0 = [0.09,0.25,0.2 ,0.17,0.12]\n",
      "Iteration r1 = [0.07,0.14,0.24,0.15,0.11]\n",
      "Iteration r2 = [0.06,0.11,0.14,0.15,0.12]\n",
      "Iteration r3 = [0.06,0.1 ,0.11,0.11,0.08]\n",
      "Iteration r4 = [0.04,0.08,0.1 ,0.08,0.06]\n"
     ]
    }
   ],
   "source": [
    "beta = 0.8\n",
    "epsilon = 0.1\n",
    "\n",
    "M = np.array(\n",
    "    [\n",
    "        [0, 0, 0, 0, 1 / 3],\n",
    "        [1, 0, 0, 0, 1 / 3],\n",
    "        [0, 1, 0, 0, 0],\n",
    "        [0, 0, 1 / 2, 0, 1 / 3],\n",
    "        [0, 0, 1 / 2, 0, 0]\n",
    "    ]\n",
    ")\n",
    "\n",
    "T = np.array(\n",
    "    [\n",
    "        [1/5, 1/5, 1/5, 1/5, 1/5],\n",
    "        [1/5, 1/5, 1/5, 1/5, 1/5],\n",
    "        [1/5, 1/5, 1/5, 1/5, 1/5],\n",
    "        [1/5, 1/5, 1/5, 1/5, 1/5],\n",
    "        [1/5, 1/5, 1/5, 1/5, 1/5],\n",
    "    ]\n",
    ")\n",
    "\n",
    "r0 = np.array(\n",
    "    [1 / 5, 1 / 5, 1 / 5, 1 / 5, 1 / 5]\n",
    ").transpose()\n",
    "\n",
    "M = teleport_operation(M,r0, beta)\n",
    "\n",
    "calculate_page_rank(M, r0, epsilon)"
   ],
   "metadata": {
    "collapsed": false,
    "pycharm": {
     "name": "#%%\n"
    }
   }
  },
  {
   "cell_type": "markdown",
   "source": [
    "The results we obtained are completely wrong the sum of all the referencing values is under 1."
   ],
   "metadata": {
    "collapsed": false,
    "pycharm": {
     "name": "#%% md\n"
    }
   }
  },
  {
   "cell_type": "markdown",
   "source": [
    "## Solve the dead ends issue\n",
    "\n",
    "To solve the dead ends, we can use a simple pruning strategy by removing all websites that having no successors.\n",
    "\n",
    "In our case we remove the website D like in the graph below:\n",
    "\n",
    "![graph](images/diagram_page_rank_6.png)\n",
    "\n",
    "M matrix :\n",
    "$\\left[\\begin{array}{cccc}\n",
    "0 & 0 & 0 & 1/2 \\\\\n",
    "1 & 0 & 0 & 1/2 \\\\\n",
    "0 & 1 & 0 & 0 \\\\\n",
    "0 & 0 & 1 & 0 \\\\\n",
    "\\end{array} \\right]$\n",
    "\n",
    "r vector :\n",
    "$\\left[ \\begin{array}{cccc}\n",
    "1/4 \\\\\n",
    "1/4 \\\\\n",
    "1/4 \\\\\n",
    "1/4 \\\\\n",
    "\\end{array} \\right]$\n",
    "\n",
    "Matrix T:\n",
    "$\\left[\\begin{array}{cccc}\n",
    "1/4 & 1/4 & 1/4 & 1/4 \\\\\n",
    "1/4 & 1/4 & 1/4 & 1/4 \\\\\n",
    "1/4 & 1/4 & 1/4 & 1/4 \\\\\n",
    "1/4 & 1/4 & 1/4 & 1/4 \\\\\n",
    "\\end{array} \\right]$\n",
    "\n",
    "\n",
    "Teleport Matrix M:\n",
    "$M' = M*\\beta + T*(1-\\beta)$"
   ],
   "metadata": {
    "collapsed": false,
    "pycharm": {
     "name": "#%% md\n"
    }
   }
  },
  {
   "cell_type": "code",
   "execution_count": 14,
   "outputs": [
    {
     "name": "stdout",
     "output_type": "stream",
     "text": [
      "iteration r0 = [0.17,0.33,0.25,0.25]\n",
      "Iteration r1 = [0.17,0.28,0.3 ,0.25]\n",
      "Iteration r2 = [0.17,0.28,0.27,0.28]\n"
     ]
    }
   ],
   "source": [
    "beta = 0.8\n",
    "epsilon = 0.1\n",
    "\n",
    "M = np.array(\n",
    "    [\n",
    "        [0, 0, 0, 1 / 2],\n",
    "        [1, 0, 0, 1 / 2],\n",
    "        [0, 1, 0,  0],\n",
    "        [0, 0, 1, 0]\n",
    "    ]\n",
    ")\n",
    "\n",
    "T = np.array(\n",
    "    [\n",
    "        [1/4, 1/4, 1/4, 1/4],\n",
    "        [1/4, 1/4, 1/4, 1/4],\n",
    "        [1/4, 1/4, 1/4, 1/4],\n",
    "        [1/4, 1/4, 1/4, 1/4],\n",
    "    ]\n",
    ")\n",
    "\n",
    "M = M*beta + T*(1-beta)\n",
    "\n",
    "r0 = np.array(\n",
    "    [1 / 4, 1 / 4, 1 / 4, 1 / 4]\n",
    ").transpose()\n",
    "\n",
    "M = teleport_operation(M,r0, beta)\n",
    "\n",
    "calculate_page_rank(M, r0, epsilon)"
   ],
   "metadata": {
    "collapsed": false,
    "pycharm": {
     "name": "#%%\n"
    }
   }
  },
  {
   "cell_type": "markdown",
   "source": [
    "The Dead Ends issue is corrected, we have a sum of 1 with all the referencing value of each website."
   ],
   "metadata": {
    "collapsed": false,
    "pycharm": {
     "name": "#%% md\n"
    }
   }
  },
  {
   "cell_type": "markdown",
   "source": [
    "## Go further\n",
    "\n",
    "If you want to test the algorithms with a bigger set of data a go to the `page_rank_exercice`.\n",
    "In this exercise we'll try to implement the algorithm for a bigger set of data.\n",
    "\n",
    "If you want to go further and learn how the custom search work or the targeted user research, take a look at article:\n",
    "<https://searchengineland.com/what-is-google-pagerank-a-guide-for-searchers-webmasters-11068>\n"
   ],
   "metadata": {
    "collapsed": false,
    "pycharm": {
     "name": "#%% md\n"
    }
   }
  }
 ],
 "metadata": {
  "kernelspec": {
   "display_name": "Python 3",
   "language": "python",
   "name": "python3"
  },
  "language_info": {
   "codemirror_mode": {
    "name": "ipython",
    "version": 3
   },
   "file_extension": ".py",
   "mimetype": "text/x-python",
   "name": "python",
   "nbconvert_exporter": "python",
   "pygments_lexer": "ipython3",
   "version": "3.10.2"
  }
 },
 "nbformat": 4,
 "nbformat_minor": 0
}