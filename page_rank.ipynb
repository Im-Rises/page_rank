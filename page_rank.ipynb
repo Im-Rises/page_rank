{
 "cells": [
  {
   "cell_type": "markdown",
   "metadata": {
    "pycharm": {
     "name": "#%% md\n"
    }
   },
   "source": [
    "# Page rank\n",
    "\n",
    "## Introduction\n",
    "\n",
    "All web pages doens't ahve the same importance.\n",
    "\n",
    "For example has my portfolio <https://im-rises.github.io> more importance in referencing the `informatic` word than <https://www.microsoft.com/>\n",
    "\n",
    "Answer : NO\n",
    "\n",
    "All pages do not have the importance."
   ]
  },
  {
   "cell_type": "markdown",
   "source": [
    "## The importance of a web page\n",
    "\n",
    "A web's page importance depends on the number of pages referencing to him.\n",
    "\n",
    "Each page has a number of successors. If the page A has an importance x with n successors, all pages referenced by will have x/n referencing importance.\n",
    "\n",
    "![images/diagram_page_rank.png](images/diagram_page_rank.png)\n",
    "\n",
    "So the importance of a page is defined by the sum of all predecessors' reference.\n",
    "\n",
    "Example :\n",
    "\n",
    "$$A = \\frac{B}{2} + \\frac{A}{2}$$\n",
    "$$B = \\frac{A}{2} + C$$\n",
    "$$C = \\frac{B}{2}$$"
   ],
   "metadata": {
    "collapsed": false,
    "pycharm": {
     "name": "#%% md\n"
    }
   }
  },
  {
   "cell_type": "markdown",
   "metadata": {
    "pycharm": {
     "name": "#%% md\n"
    }
   },
   "source": [
    "## Manual resolution\n",
    "\n",
    "Because a website reference is defined by Its predecessor websites, the equations for each website is composed by the predecessor websites' influences.\n",
    "\n",
    "First we check the graph and all the relations between each website :\n",
    "\n",
    "![images/diagram_page_rank_2.png](images/diagram_page_rank_2.png)\n",
    "\n",
    "Then we find write all reference value made by one website to another :\n",
    "\n",
    "![images/diagram_page_rank_2.png](images/diagram_page_rank_3.png)\n",
    "\n",
    "Equations :  \n",
    "$$A = \\frac{E}{3} + D$$  \n",
    "$$B = A + \\frac{E}{3}$$  \n",
    "$$C = B$$  \n",
    "$$D = \\frac{C}{2} + \\frac{E}{3}$$  \n",
    "$$E = \\frac{C}{2}$$  \n",
    "\n",
    "With mathematical resolution we can find the referencing value of all the websites :\n",
    "\n",
    "$$D = \\frac{C}{2} + \\frac{E}{3} = E + \\frac{E}{3} = \\frac{4E}{3}$$\n",
    "$$A = \\frac{E}{3} + D = \\frac{E}{3} + \\frac{4E}{3} = \\frac{5E}{3}$$\n",
    "$$B = A + \\frac{E}{3} = \\frac{5E}{3} + \\frac{E}{3} = 2E$$\n",
    "$$C = 2E = B$$\n",
    "\n",
    "$$A + B + C + D + E = 1$$\n",
    "$$<=> \\frac{5E}{3} + 2E + 2E + \\frac{4E}{3} + E = 1$$\n",
    "$$<=> \\frac{24E}{3} = 1$$\n",
    "$$<=> E = \\frac{3}{24}$$\n",
    "\n",
    "$$A = \\frac{5}{24}$$\n",
    "$$B = \\frac{3}{12}$$\n",
    "$$C = \\frac{3}{12}$$\n",
    "$$D = \\frac{2}{12}$$\n",
    "$$E = \\frac{3}{24}$$\n",
    "\n",
    "The sum of all the websites values equals 1. This solution is possible but for more precision we are going to use the matrix method.\n"
   ]
  },
  {
   "cell_type": "markdown",
   "source": [
    "## Matrix resolution\n",
    "\n",
    "The matrix is found by writing all different relations between all different websites.\n",
    "To calculate our solution, we have one stochastic matrix M and a vector r.\n",
    "\n",
    "The M matrix represent all relations between all websites with the column header representing the website and the row headers the successors.\n",
    "\n",
    "For exemple the relation at M[0,3] is D --> A.\n",
    "\n",
    "Stochastic matrix (M) :\n",
    "\n",
    "$\\left[\\begin{array}{cccc}\n",
    "0 & 0 & 0 & 1 & 1/3 \\\\\n",
    "1 & 0 & 0 & 0 & 1/3 \\\\\n",
    "0 & 1 & 0 & 0 & 0 \\\\\n",
    "0 & 0 & 1/2 & 0 & 1/3 \\\\\n",
    "0 & 0 & 1/2 & 0 & 0 \\\\\n",
    "\\end{array} \\right]$\n",
    "\n",
    "\n",
    "The vector (r) is sized n the number of websites. Each value in the vector is the same 1/n so in our case 1/5 because we have 5 websites.\n",
    "\n",
    "$\\left[ \\begin{array}{cccc}\n",
    "1/5 \\\\\n",
    "1/5 \\\\\n",
    "1/5 \\\\\n",
    "1/5 \\\\\n",
    "1/5 \\\\\n",
    "\\end{array} \\right]$\n",
    "\n",
    "To get our solution with the matrix method, we use the following algorithm :\n",
    "• Initialisation : r0 = [1/N,....,1/N]T ;\n",
    "• Iteration : rk+1 = M rk ;\n",
    "• Stop when |rk+1 - rk|L1 < ε\n"
   ],
   "metadata": {
    "collapsed": false,
    "pycharm": {
     "name": "#%% md\n"
    }
   }
  },
  {
   "cell_type": "code",
   "execution_count": 11,
   "metadata": {
    "pycharm": {
     "name": "#%%\n"
    }
   },
   "outputs": [
    {
     "name": "stdout",
     "output_type": "stream",
     "text": [
      "L'itération a pour valeur r0 = [0.27,0.27,0.2 ,0.17,0.1 ]\n",
      "L'itération a pour valeur r1 = [0.2 ,0.3 ,0.27,0.13,0.1 ]\n",
      "L'itération a pour valeur r2 = [0.17,0.23,0.3 ,0.17,0.13]\n",
      "L'itération a pour valeur r3 = [0.21,0.21,0.23,0.19,0.15]\n",
      "L'itération a pour valeur r4 = [0.24,0.26,0.21,0.17,0.12]\n",
      "L'itération a pour valeur r5 = [0.21,0.28,0.26,0.14,0.11]\n",
      "L'itération a pour valeur r6 = [0.18,0.24,0.28,0.17,0.13]\n",
      "L'itération a pour valeur r7 = [0.21,0.22,0.24,0.19,0.14]\n",
      "L'itération a pour valeur r8 = [0.23,0.26,0.22,0.17,0.12]\n",
      "L'itération a pour valeur r9 = [0.21,0.27,0.26,0.15,0.11]\n"
     ]
    }
   ],
   "source": [
    "import numpy as np\n",
    "M = np.array(\n",
    "   [\n",
    "       [0,0,0,1,1/3],\n",
    "       [1,0,0,0,1/3],\n",
    "       [0,1,0,0,0],\n",
    "       [0,0,1/2,0,1/3],\n",
    "       [0,0,1/2,0,0]\n",
    "   ] \n",
    ")\n",
    "\n",
    "r0 = np.array(\n",
    "    [1/5,1/5,1/5,1/5,1/5]\n",
    ").transpose()\n",
    "\n",
    "epsilon = 0.1\n",
    "numIteration=0\n",
    "doLoop=True\n",
    "\n",
    "rk1=np.dot(M,r0)\n",
    "print(\"L'itération a pour valeur r{}\".format(numIteration) + \" = \" + np.array2string(rk1, precision=2, separator=',',suppress_small=True))\n",
    "\n",
    "while doLoop:\n",
    "    numIteration+=1\n",
    "    rk0=rk1\n",
    "    rk1=np.dot(M,rk1)\n",
    "    print(\"L'itération a pour valeur r{}\".format(numIteration) + \" = \" + np.array2string(rk1, precision=2, separator=',',suppress_small=True))\n",
    "    doLoop = not (np.linalg.norm((rk1-rk0), ord=1) < epsilon)\n",
    "\n",
    "    "
   ]
  },
  {
   "cell_type": "markdown",
   "metadata": {
    "pycharm": {
     "name": "#%% md\n"
    }
   },
   "source": [
    "The results of the calculus in the `Manual resolution` are equals to the algorithm's solution at iteration number 9 (r9).\n",
    "\n",
    "$$A = \\frac{5}{24} ≈ 0.21$$\n",
    "\n",
    "$$B = \\frac{3}{12} ≈ 0.27$$\n",
    "\n",
    "$$C = \\frac{3}{12} ≈ 0.26$$\n",
    "\n",
    "$$D = \\frac{2}{12} ≈ 0.15$$\n",
    "\n",
    "$$E = \\frac{3}{24} ≈ 0.11$$ \n",
    "\n"
   ]
  },
  {
   "cell_type": "markdown",
   "source": [
    "## Go further\n",
    "\n",
    "An issue can happen in some case, it is possible to get in a spider trap.\n",
    "\n",
    "A spider trap is when a website is referenced by other but is not referencing anything at all.\n",
    "\n",
    "This can cause issue in our precedents' calculus, to prevent this issue we will add teleportation.\n",
    "\n",
    "To see how to implement it, follow the guide in the `page_rank_teleport.iypnb` file.\n"
   ],
   "metadata": {
    "collapsed": false,
    "pycharm": {
     "name": "#%% md\n"
    }
   }
  }
 ],
 "metadata": {
  "kernelspec": {
   "display_name": "Python 3",
   "language": "python",
   "name": "python3"
  },
  "language_info": {
   "codemirror_mode": {
    "name": "ipython",
    "version": 3
   },
   "file_extension": ".py",
   "mimetype": "text/x-python",
   "name": "python",
   "nbconvert_exporter": "python",
   "pygments_lexer": "ipython3",
   "version": "3.10.2"
  }
 },
 "nbformat": 4,
 "nbformat_minor": 0
}